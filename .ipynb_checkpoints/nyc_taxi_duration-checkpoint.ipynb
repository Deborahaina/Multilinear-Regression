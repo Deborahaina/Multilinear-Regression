{
 "cells": [
  {
   "cell_type": "markdown",
   "metadata": {
    "id": "42yc1zUrzlEh"
   },
   "source": [
    "<b>\n",
    "<p>\n",
    "<center>\n",
    "<font size=\"5\">\n",
    "Popular Machine Learning Methods: Idea, Practice and Math\n",
    "</font>\n",
    "</center>\n",
    "</p>\n",
    "\n",
    "<p>\n",
    "<center>\n",
    "<font size=\"4\">\n",
    "Part 2, Chapter 2, Section 2: Training Shallow Models\n",
    "</font>\n",
    "</center>\n",
    "</p>\n",
    "    \n",
    "<p>\n",
    "<center>\n",
    "<font size=\"4\">\n",
    "Homework 1\n",
    "</font>\n",
    "</center>\n",
    "</p>\n",
    "\n",
    "<p>\n",
    "<center>\n",
    "<font size=\"3\">\n",
    "Data Science, Columbian College of Arts & Sciences, George Washington University\n",
    "</font>\n",
    "</center>\n",
    "</p>\n",
    "\n",
    "<p>\n",
    "<center>\n",
    "<font size=\"3\">\n",
    "Yuxiao Huang\n",
    "</font>\n",
    "</center>\n",
    "</p>\n",
    "</b>"
   ]
  },
  {
   "cell_type": "markdown",
   "metadata": {
    "id": "H3yB94KtgMHu"
   },
   "source": [
    "## Google drive"
   ]
  },
  {
   "cell_type": "code",
   "execution_count": 1,
   "metadata": {
    "colab": {
     "base_uri": "https://localhost:8080/"
    },
    "id": "jWmYBTOwgNs-",
    "outputId": "443f4ab5-529f-48bd-debc-af3d7a49c30a"
   },
   "outputs": [
    {
     "name": "stdout",
     "output_type": "stream",
     "text": [
      "Drive already mounted at /content/drive; to attempt to forcibly remount, call drive.mount(\"/content/drive\", force_remount=True).\n",
      "/content/drive/My Drive/Colab Notebooks/teaching/gwu/machine_learning_I/spring_2021/code/utilities/p2_shallow_learning/\n"
     ]
    }
   ],
   "source": [
    "from google.colab import drive\n",
    "import sys\n",
    "\n",
    "# Mount Google Drive\n",
    "drive.mount('/content/drive')\n",
    "\n",
    "# Get the absolute path of the current folder\n",
    "abspath_curr = '/content/drive/My Drive/Colab Notebooks/teaching/gwu/machine_learning_I//homework/homework_1/'\n",
    "\n",
    "# Get the absolute path of the shallow utilities folder\n",
    "abspath_util_shallow = '/content/drive/My Drive/Colab Notebooks/teaching/gwu/machine_learning_I/spring_2021/code/utilities/p2_shallow_learning/'\n",
    "print(abspath_util_shallow)\n",
    "# Get the absolute path of the shallow models folder\n",
    "abspath_model_shallow = '/content/drive/My Drive/Colab Notebooks/teaching/gwu/machine_learning_I/spring_2021/code/models/p2_shallow_learning/'"
   ]
  },
  {
   "cell_type": "markdown",
   "metadata": {
    "id": "bYZhU1Wqgmqx"
   },
   "source": [
    "## Warning"
   ]
  },
  {
   "cell_type": "code",
   "execution_count": 2,
   "metadata": {
    "id": "MUl4k83e4ANR"
   },
   "outputs": [],
   "source": [
    "import warnings\n",
    "\n",
    "# Ignore warnings\n",
    "warnings.filterwarnings('ignore')"
   ]
  },
  {
   "cell_type": "markdown",
   "metadata": {
    "id": "6WMODpPfgn2U"
   },
   "source": [
    "## Matplotlib"
   ]
  },
  {
   "cell_type": "code",
   "execution_count": 3,
   "metadata": {
    "id": "DBRVH9SB4ANb"
   },
   "outputs": [],
   "source": [
    "import matplotlib.pyplot as plt\n",
    "%matplotlib inline \n",
    "\n",
    "# Set matplotlib sizes\n",
    "plt.rc('font', size=20)\n",
    "plt.rc('axes', titlesize=20)\n",
    "plt.rc('axes', labelsize=20)\n",
    "plt.rc('xtick', labelsize=20)\n",
    "plt.rc('ytick', labelsize=20)\n",
    "plt.rc('legend', fontsize=20)\n",
    "plt.rc('figure', titlesize=20)"
   ]
  },
  {
   "cell_type": "markdown",
   "metadata": {
    "id": "n-wNDk5nZhhO"
   },
   "source": [
    "## TensorFlow"
   ]
  },
  {
   "cell_type": "code",
   "execution_count": 4,
   "metadata": {
    "id": "LjG43tEnZkfE"
   },
   "outputs": [],
   "source": [
    "# The magic below allows us to use tensorflow version 2.x\n",
    "%tensorflow_version 2.x \n",
    "import tensorflow as tf\n",
    "from tensorflow import keras"
   ]
  },
  {
   "cell_type": "markdown",
   "metadata": {
    "id": "40FN3UNfO2Z7"
   },
   "source": [
    "## Random seed"
   ]
  },
  {
   "cell_type": "code",
   "execution_count": 5,
   "metadata": {
    "id": "uSADk0hJP71d"
   },
   "outputs": [],
   "source": [
    "# The random seed\n",
    "random_seed = 42\n",
    "\n",
    "# Set random seed in tensorflow\n",
    "#tf.random.set_seed(random_seed)\n",
    "\n",
    "# Set random seed in numpy\n",
    "import numpy as np\n",
    "np.random.seed(random_seed)"
   ]
  },
  {
   "cell_type": "markdown",
   "metadata": {
    "id": "yAwfz8iYzlFC"
   },
   "source": [
    "# Data Preprocessing\n",
    "**Note: You will need to specify the date time variables, *datetime_vars*, when handling date time variables**."
   ]
  },
  {
   "cell_type": "code",
   "execution_count": 6,
   "metadata": {
    "colab": {
     "base_uri": "https://localhost:8080/"
    },
    "id": "D-Mwc6MczlFD",
    "outputId": "cf5917a4-6df6-4bf2-d095-c421f9f0666a"
   },
   "outputs": [
    {
     "name": "stdout",
     "output_type": "stream",
     "text": [
      "/content/drive/My Drive/Colab Notebooks/teaching/gwu/machine_learning_I/spring_2021/code/utilities/p2_shallow_learning\n"
     ]
    }
   ],
   "source": [
    "# Change working directory to the absolute path of the shallow utilities folder\n",
    "%cd $abspath_util_shallow\n",
    "\n"
   ]
  },
  {
   "cell_type": "code",
   "execution_count": 7,
   "metadata": {
    "id": "eWSL4VZL4Fsn"
   },
   "outputs": [],
   "source": [
    "# Import the shallow utitilities\n",
    "%run pmlm_utilities_shallow.ipynb"
   ]
  },
  {
   "cell_type": "markdown",
   "metadata": {
    "id": "LGhBy1c_3sjw"
   },
   "source": [
    "### Loading the Data"
   ]
  },
  {
   "cell_type": "code",
   "execution_count": 8,
   "metadata": {
    "id": "pghM9JYJ3sjw"
   },
   "outputs": [],
   "source": [
    "\n",
    "import pandas as pd\n",
    "\n",
    "df_raw_train = pd.read_csv(abspath_curr + '/data/nyc_taxi_trip_duration/train.csv')\n",
    "\n",
    "#Make a copy of df_raw_train\n",
    "df_train = df_raw_train.copy(deep=True)\n",
    "\n",
    "# Load the raw test data\n",
    "df_raw_test = pd.read_csv(abspath_curr + '/data/nyc_taxi_trip_duration/test.csv',\n",
    "                          header=0)\n",
    "# Make a copy of df_raw_test\n",
    "df_test = df_raw_test.copy(deep=True)\n",
    "\n",
    "# Get the name of the target\n",
    "target = 'trip_duration'"
   ]
  },
  {
   "cell_type": "code",
   "execution_count": 9,
   "metadata": {
    "colab": {
     "base_uri": "https://localhost:8080/",
     "height": 77
    },
    "id": "fd80L-N43sjx",
    "outputId": "1a9fe5ea-f67f-419b-9863-5119c9ccac71"
   },
   "outputs": [
    {
     "data": {
      "text/html": [
       "<div>\n",
       "<style scoped>\n",
       "    .dataframe tbody tr th:only-of-type {\n",
       "        vertical-align: middle;\n",
       "    }\n",
       "\n",
       "    .dataframe tbody tr th {\n",
       "        vertical-align: top;\n",
       "    }\n",
       "\n",
       "    .dataframe thead th {\n",
       "        text-align: right;\n",
       "    }\n",
       "</style>\n",
       "<table border=\"1\" class=\"dataframe\">\n",
       "  <thead>\n",
       "    <tr style=\"text-align: right;\">\n",
       "      <th></th>\n",
       "      <th># Columns</th>\n",
       "      <th># of Rows</th>\n",
       "    </tr>\n",
       "  </thead>\n",
       "  <tbody>\n",
       "    <tr>\n",
       "      <th>0</th>\n",
       "      <td>1458644</td>\n",
       "      <td>11</td>\n",
       "    </tr>\n",
       "  </tbody>\n",
       "</table>\n",
       "</div>"
      ],
      "text/plain": [
       "   # Columns  # of Rows\n",
       "0    1458644         11"
      ]
     },
     "execution_count": 9,
     "metadata": {
      "tags": []
     },
     "output_type": "execute_result"
    }
   ],
   "source": [
    "#Print the dimension of df_train\n",
    "pd.DataFrame([[df_train.shape[0], df_train.shape[1]]], columns= ['# Columns', '# of Rows'])"
   ]
  },
  {
   "cell_type": "code",
   "execution_count": 10,
   "metadata": {
    "colab": {
     "base_uri": "https://localhost:8080/",
     "height": 77
    },
    "id": "oJwAWFze3sjx",
    "outputId": "02de17be-c720-423f-d72c-dece80fa8cf4"
   },
   "outputs": [
    {
     "data": {
      "text/html": [
       "<div>\n",
       "<style scoped>\n",
       "    .dataframe tbody tr th:only-of-type {\n",
       "        vertical-align: middle;\n",
       "    }\n",
       "\n",
       "    .dataframe tbody tr th {\n",
       "        vertical-align: top;\n",
       "    }\n",
       "\n",
       "    .dataframe thead th {\n",
       "        text-align: right;\n",
       "    }\n",
       "</style>\n",
       "<table border=\"1\" class=\"dataframe\">\n",
       "  <thead>\n",
       "    <tr style=\"text-align: right;\">\n",
       "      <th></th>\n",
       "      <th># Columns</th>\n",
       "      <th># of Rows</th>\n",
       "    </tr>\n",
       "  </thead>\n",
       "  <tbody>\n",
       "    <tr>\n",
       "      <th>0</th>\n",
       "      <td>625134</td>\n",
       "      <td>9</td>\n",
       "    </tr>\n",
       "  </tbody>\n",
       "</table>\n",
       "</div>"
      ],
      "text/plain": [
       "   # Columns  # of Rows\n",
       "0     625134          9"
      ]
     },
     "execution_count": 10,
     "metadata": {
      "tags": []
     },
     "output_type": "execute_result"
    }
   ],
   "source": [
    "#Print the dimension of df_test\n",
    "pd.DataFrame([[df_test.shape[0], df_test.shape[1]]], columns= ['# Columns', '# of Rows'])"
   ]
  },
  {
   "cell_type": "code",
   "execution_count": 11,
   "metadata": {
    "colab": {
     "base_uri": "https://localhost:8080/",
     "height": 299
    },
    "id": "OJ2AipaA3sjy",
    "outputId": "4f95b14c-2e09-4cf7-fff6-d49e3db9a759"
   },
   "outputs": [
    {
     "data": {
      "text/html": [
       "<div>\n",
       "<style scoped>\n",
       "    .dataframe tbody tr th:only-of-type {\n",
       "        vertical-align: middle;\n",
       "    }\n",
       "\n",
       "    .dataframe tbody tr th {\n",
       "        vertical-align: top;\n",
       "    }\n",
       "\n",
       "    .dataframe thead th {\n",
       "        text-align: right;\n",
       "    }\n",
       "</style>\n",
       "<table border=\"1\" class=\"dataframe\">\n",
       "  <thead>\n",
       "    <tr style=\"text-align: right;\">\n",
       "      <th></th>\n",
       "      <th>id</th>\n",
       "      <th>vendor_id</th>\n",
       "      <th>pickup_datetime</th>\n",
       "      <th>dropoff_datetime</th>\n",
       "      <th>passenger_count</th>\n",
       "      <th>pickup_longitude</th>\n",
       "      <th>pickup_latitude</th>\n",
       "      <th>dropoff_longitude</th>\n",
       "      <th>dropoff_latitude</th>\n",
       "      <th>store_and_fwd_flag</th>\n",
       "      <th>trip_duration</th>\n",
       "    </tr>\n",
       "  </thead>\n",
       "  <tbody>\n",
       "    <tr>\n",
       "      <th>0</th>\n",
       "      <td>id2875421</td>\n",
       "      <td>2</td>\n",
       "      <td>2016-03-14 17:24:55</td>\n",
       "      <td>2016-03-14 17:32:30</td>\n",
       "      <td>1</td>\n",
       "      <td>-73.982155</td>\n",
       "      <td>40.767937</td>\n",
       "      <td>-73.964630</td>\n",
       "      <td>40.765602</td>\n",
       "      <td>N</td>\n",
       "      <td>455</td>\n",
       "    </tr>\n",
       "    <tr>\n",
       "      <th>1</th>\n",
       "      <td>id2377394</td>\n",
       "      <td>1</td>\n",
       "      <td>2016-06-12 00:43:35</td>\n",
       "      <td>2016-06-12 00:54:38</td>\n",
       "      <td>1</td>\n",
       "      <td>-73.980415</td>\n",
       "      <td>40.738564</td>\n",
       "      <td>-73.999481</td>\n",
       "      <td>40.731152</td>\n",
       "      <td>N</td>\n",
       "      <td>663</td>\n",
       "    </tr>\n",
       "    <tr>\n",
       "      <th>2</th>\n",
       "      <td>id3858529</td>\n",
       "      <td>2</td>\n",
       "      <td>2016-01-19 11:35:24</td>\n",
       "      <td>2016-01-19 12:10:48</td>\n",
       "      <td>1</td>\n",
       "      <td>-73.979027</td>\n",
       "      <td>40.763939</td>\n",
       "      <td>-74.005333</td>\n",
       "      <td>40.710087</td>\n",
       "      <td>N</td>\n",
       "      <td>2124</td>\n",
       "    </tr>\n",
       "    <tr>\n",
       "      <th>3</th>\n",
       "      <td>id3504673</td>\n",
       "      <td>2</td>\n",
       "      <td>2016-04-06 19:32:31</td>\n",
       "      <td>2016-04-06 19:39:40</td>\n",
       "      <td>1</td>\n",
       "      <td>-74.010040</td>\n",
       "      <td>40.719971</td>\n",
       "      <td>-74.012268</td>\n",
       "      <td>40.706718</td>\n",
       "      <td>N</td>\n",
       "      <td>429</td>\n",
       "    </tr>\n",
       "    <tr>\n",
       "      <th>4</th>\n",
       "      <td>id2181028</td>\n",
       "      <td>2</td>\n",
       "      <td>2016-03-26 13:30:55</td>\n",
       "      <td>2016-03-26 13:38:10</td>\n",
       "      <td>1</td>\n",
       "      <td>-73.973053</td>\n",
       "      <td>40.793209</td>\n",
       "      <td>-73.972923</td>\n",
       "      <td>40.782520</td>\n",
       "      <td>N</td>\n",
       "      <td>435</td>\n",
       "    </tr>\n",
       "  </tbody>\n",
       "</table>\n",
       "</div>"
      ],
      "text/plain": [
       "          id  vendor_id  ... store_and_fwd_flag trip_duration\n",
       "0  id2875421          2  ...                  N           455\n",
       "1  id2377394          1  ...                  N           663\n",
       "2  id3858529          2  ...                  N          2124\n",
       "3  id3504673          2  ...                  N           429\n",
       "4  id2181028          2  ...                  N           435\n",
       "\n",
       "[5 rows x 11 columns]"
      ]
     },
     "execution_count": 11,
     "metadata": {
      "tags": []
     },
     "output_type": "execute_result"
    }
   ],
   "source": [
    "df_train.head(5)"
   ]
  },
  {
   "cell_type": "code",
   "execution_count": 12,
   "metadata": {
    "colab": {
     "base_uri": "https://localhost:8080/",
     "height": 299
    },
    "id": "ghdE4cX03sjy",
    "outputId": "61c0e17d-7a07-4000-fb27-0632e748d598"
   },
   "outputs": [
    {
     "data": {
      "text/html": [
       "<div>\n",
       "<style scoped>\n",
       "    .dataframe tbody tr th:only-of-type {\n",
       "        vertical-align: middle;\n",
       "    }\n",
       "\n",
       "    .dataframe tbody tr th {\n",
       "        vertical-align: top;\n",
       "    }\n",
       "\n",
       "    .dataframe thead th {\n",
       "        text-align: right;\n",
       "    }\n",
       "</style>\n",
       "<table border=\"1\" class=\"dataframe\">\n",
       "  <thead>\n",
       "    <tr style=\"text-align: right;\">\n",
       "      <th></th>\n",
       "      <th>id</th>\n",
       "      <th>vendor_id</th>\n",
       "      <th>pickup_datetime</th>\n",
       "      <th>passenger_count</th>\n",
       "      <th>pickup_longitude</th>\n",
       "      <th>pickup_latitude</th>\n",
       "      <th>dropoff_longitude</th>\n",
       "      <th>dropoff_latitude</th>\n",
       "      <th>store_and_fwd_flag</th>\n",
       "    </tr>\n",
       "  </thead>\n",
       "  <tbody>\n",
       "    <tr>\n",
       "      <th>0</th>\n",
       "      <td>id3004672</td>\n",
       "      <td>1</td>\n",
       "      <td>2016-06-30 23:59:58</td>\n",
       "      <td>1</td>\n",
       "      <td>-73.988129</td>\n",
       "      <td>40.732029</td>\n",
       "      <td>-73.990173</td>\n",
       "      <td>40.756680</td>\n",
       "      <td>N</td>\n",
       "    </tr>\n",
       "    <tr>\n",
       "      <th>1</th>\n",
       "      <td>id3505355</td>\n",
       "      <td>1</td>\n",
       "      <td>2016-06-30 23:59:53</td>\n",
       "      <td>1</td>\n",
       "      <td>-73.964203</td>\n",
       "      <td>40.679993</td>\n",
       "      <td>-73.959808</td>\n",
       "      <td>40.655403</td>\n",
       "      <td>N</td>\n",
       "    </tr>\n",
       "    <tr>\n",
       "      <th>2</th>\n",
       "      <td>id1217141</td>\n",
       "      <td>1</td>\n",
       "      <td>2016-06-30 23:59:47</td>\n",
       "      <td>1</td>\n",
       "      <td>-73.997437</td>\n",
       "      <td>40.737583</td>\n",
       "      <td>-73.986160</td>\n",
       "      <td>40.729523</td>\n",
       "      <td>N</td>\n",
       "    </tr>\n",
       "    <tr>\n",
       "      <th>3</th>\n",
       "      <td>id2150126</td>\n",
       "      <td>2</td>\n",
       "      <td>2016-06-30 23:59:41</td>\n",
       "      <td>1</td>\n",
       "      <td>-73.956070</td>\n",
       "      <td>40.771900</td>\n",
       "      <td>-73.986427</td>\n",
       "      <td>40.730469</td>\n",
       "      <td>N</td>\n",
       "    </tr>\n",
       "    <tr>\n",
       "      <th>4</th>\n",
       "      <td>id1598245</td>\n",
       "      <td>1</td>\n",
       "      <td>2016-06-30 23:59:33</td>\n",
       "      <td>1</td>\n",
       "      <td>-73.970215</td>\n",
       "      <td>40.761475</td>\n",
       "      <td>-73.961510</td>\n",
       "      <td>40.755890</td>\n",
       "      <td>N</td>\n",
       "    </tr>\n",
       "  </tbody>\n",
       "</table>\n",
       "</div>"
      ],
      "text/plain": [
       "          id  vendor_id  ... dropoff_latitude  store_and_fwd_flag\n",
       "0  id3004672          1  ...        40.756680                   N\n",
       "1  id3505355          1  ...        40.655403                   N\n",
       "2  id1217141          1  ...        40.729523                   N\n",
       "3  id2150126          2  ...        40.730469                   N\n",
       "4  id1598245          1  ...        40.755890                   N\n",
       "\n",
       "[5 rows x 9 columns]"
      ]
     },
     "execution_count": 12,
     "metadata": {
      "tags": []
     },
     "output_type": "execute_result"
    }
   ],
   "source": [
    "df_test.head(5)"
   ]
  },
  {
   "cell_type": "markdown",
   "metadata": {
    "id": "fG14uCCK3sjy"
   },
   "source": [
    "### Splitting the Data"
   ]
  },
  {
   "cell_type": "code",
   "execution_count": 13,
   "metadata": {
    "id": "lOrylKj63sjy"
   },
   "outputs": [],
   "source": [
    "from sklearn.model_selection import train_test_split\n",
    "\n",
    "# Divide the training data into training (80%) and validation (20%)\n",
    "df_train, df_val = train_test_split(df_train, train_size = 0.8, random_state= random_seed)"
   ]
  },
  {
   "cell_type": "code",
   "execution_count": 14,
   "metadata": {
    "id": "0x0wxtnt3sjz"
   },
   "outputs": [],
   "source": [
    "#Reset the index\n",
    "df_train, df_val = df_train.reset_index(drop=True), df_val.reset_index(drop=True)"
   ]
  },
  {
   "cell_type": "code",
   "execution_count": 15,
   "metadata": {
    "colab": {
     "base_uri": "https://localhost:8080/",
     "height": 77
    },
    "id": "H7KqPEoK3sjz",
    "outputId": "f1341772-e58b-49db-d0dd-b8738f2a7afd"
   },
   "outputs": [
    {
     "data": {
      "text/html": [
       "<div>\n",
       "<style scoped>\n",
       "    .dataframe tbody tr th:only-of-type {\n",
       "        vertical-align: middle;\n",
       "    }\n",
       "\n",
       "    .dataframe tbody tr th {\n",
       "        vertical-align: top;\n",
       "    }\n",
       "\n",
       "    .dataframe thead th {\n",
       "        text-align: right;\n",
       "    }\n",
       "</style>\n",
       "<table border=\"1\" class=\"dataframe\">\n",
       "  <thead>\n",
       "    <tr style=\"text-align: right;\">\n",
       "      <th></th>\n",
       "      <th># of Columns</th>\n",
       "      <th># of Rows</th>\n",
       "    </tr>\n",
       "  </thead>\n",
       "  <tbody>\n",
       "    <tr>\n",
       "      <th>0</th>\n",
       "      <td>1166915</td>\n",
       "      <td>11</td>\n",
       "    </tr>\n",
       "  </tbody>\n",
       "</table>\n",
       "</div>"
      ],
      "text/plain": [
       "   # of Columns  # of Rows\n",
       "0       1166915         11"
      ]
     },
     "execution_count": 15,
     "metadata": {
      "tags": []
     },
     "output_type": "execute_result"
    }
   ],
   "source": [
    "#Print the dimension of df_train\n",
    "pd.DataFrame([[df_train.shape[0], df_train.shape[1]]], columns=['# of Columns','# of Rows'])"
   ]
  },
  {
   "cell_type": "code",
   "execution_count": 16,
   "metadata": {
    "colab": {
     "base_uri": "https://localhost:8080/",
     "height": 77
    },
    "id": "HjTPhBrV3sjz",
    "outputId": "4df6634d-c52d-47d1-ad2c-a6f89df4cdcc"
   },
   "outputs": [
    {
     "data": {
      "text/html": [
       "<div>\n",
       "<style scoped>\n",
       "    .dataframe tbody tr th:only-of-type {\n",
       "        vertical-align: middle;\n",
       "    }\n",
       "\n",
       "    .dataframe tbody tr th {\n",
       "        vertical-align: top;\n",
       "    }\n",
       "\n",
       "    .dataframe thead th {\n",
       "        text-align: right;\n",
       "    }\n",
       "</style>\n",
       "<table border=\"1\" class=\"dataframe\">\n",
       "  <thead>\n",
       "    <tr style=\"text-align: right;\">\n",
       "      <th></th>\n",
       "      <th># of Columns</th>\n",
       "      <th># of Rows</th>\n",
       "    </tr>\n",
       "  </thead>\n",
       "  <tbody>\n",
       "    <tr>\n",
       "      <th>0</th>\n",
       "      <td>291729</td>\n",
       "      <td>11</td>\n",
       "    </tr>\n",
       "  </tbody>\n",
       "</table>\n",
       "</div>"
      ],
      "text/plain": [
       "   # of Columns  # of Rows\n",
       "0        291729         11"
      ]
     },
     "execution_count": 16,
     "metadata": {
      "tags": []
     },
     "output_type": "execute_result"
    }
   ],
   "source": [
    "#Print the dimension of df_val\n",
    "pd.DataFrame([[df_val.shape[0], df_val.shape[1]]], columns =['# of Columns', '# of Rows'])"
   ]
  },
  {
   "cell_type": "markdown",
   "metadata": {
    "id": "ogI5vK4W3sj0"
   },
   "source": [
    "### Handling Uncommon Features"
   ]
  },
  {
   "cell_type": "code",
   "execution_count": 17,
   "metadata": {
    "colab": {
     "base_uri": "https://localhost:8080/",
     "height": 343
    },
    "id": "lXsgEW5e3sj0",
    "outputId": "90388287-a1fc-43a5-d95e-5310b7d5c257"
   },
   "outputs": [
    {
     "data": {
      "text/html": [
       "<div>\n",
       "<style scoped>\n",
       "    .dataframe tbody tr th:only-of-type {\n",
       "        vertical-align: middle;\n",
       "    }\n",
       "\n",
       "    .dataframe tbody tr th {\n",
       "        vertical-align: top;\n",
       "    }\n",
       "\n",
       "    .dataframe thead th {\n",
       "        text-align: right;\n",
       "    }\n",
       "</style>\n",
       "<table border=\"1\" class=\"dataframe\">\n",
       "  <thead>\n",
       "    <tr style=\"text-align: right;\">\n",
       "      <th></th>\n",
       "      <th>common var</th>\n",
       "    </tr>\n",
       "  </thead>\n",
       "  <tbody>\n",
       "    <tr>\n",
       "      <th>0</th>\n",
       "      <td>dropoff_latitude</td>\n",
       "    </tr>\n",
       "    <tr>\n",
       "      <th>1</th>\n",
       "      <td>dropoff_longitude</td>\n",
       "    </tr>\n",
       "    <tr>\n",
       "      <th>2</th>\n",
       "      <td>id</td>\n",
       "    </tr>\n",
       "    <tr>\n",
       "      <th>3</th>\n",
       "      <td>passenger_count</td>\n",
       "    </tr>\n",
       "    <tr>\n",
       "      <th>4</th>\n",
       "      <td>pickup_datetime</td>\n",
       "    </tr>\n",
       "    <tr>\n",
       "      <th>5</th>\n",
       "      <td>pickup_latitude</td>\n",
       "    </tr>\n",
       "    <tr>\n",
       "      <th>6</th>\n",
       "      <td>pickup_longitude</td>\n",
       "    </tr>\n",
       "    <tr>\n",
       "      <th>7</th>\n",
       "      <td>store_and_fwd_flag</td>\n",
       "    </tr>\n",
       "    <tr>\n",
       "      <th>8</th>\n",
       "      <td>trip_duration</td>\n",
       "    </tr>\n",
       "    <tr>\n",
       "      <th>9</th>\n",
       "      <td>vendor_id</td>\n",
       "    </tr>\n",
       "  </tbody>\n",
       "</table>\n",
       "</div>"
      ],
      "text/plain": [
       "           common var\n",
       "0    dropoff_latitude\n",
       "1   dropoff_longitude\n",
       "2                  id\n",
       "3     passenger_count\n",
       "4     pickup_datetime\n",
       "5     pickup_latitude\n",
       "6    pickup_longitude\n",
       "7  store_and_fwd_flag\n",
       "8       trip_duration\n",
       "9           vendor_id"
      ]
     },
     "execution_count": 17,
     "metadata": {
      "tags": []
     },
     "output_type": "execute_result"
    }
   ],
   "source": [
    "df_common_var = common_var_checker(df_train, df_val, df_test, target)\n",
    "\n",
    "# Print df_common_var\n",
    "df_common_var"
   ]
  },
  {
   "cell_type": "code",
   "execution_count": 18,
   "metadata": {
    "colab": {
     "base_uri": "https://localhost:8080/",
     "height": 77
    },
    "id": "xZjEy2Fm9mlm",
    "outputId": "4662e874-5b70-4e4b-b7db-e53ff1efbdf2"
   },
   "outputs": [
    {
     "data": {
      "text/html": [
       "<div>\n",
       "<style scoped>\n",
       "    .dataframe tbody tr th:only-of-type {\n",
       "        vertical-align: middle;\n",
       "    }\n",
       "\n",
       "    .dataframe tbody tr th {\n",
       "        vertical-align: top;\n",
       "    }\n",
       "\n",
       "    .dataframe thead th {\n",
       "        text-align: right;\n",
       "    }\n",
       "</style>\n",
       "<table border=\"1\" class=\"dataframe\">\n",
       "  <thead>\n",
       "    <tr style=\"text-align: right;\">\n",
       "      <th></th>\n",
       "      <th>Uncommon feature</th>\n",
       "    </tr>\n",
       "  </thead>\n",
       "  <tbody>\n",
       "    <tr>\n",
       "      <th>0</th>\n",
       "      <td>dropoff_datetime</td>\n",
       "    </tr>\n",
       "  </tbody>\n",
       "</table>\n",
       "</div>"
      ],
      "text/plain": [
       "   Uncommon feature\n",
       "0  dropoff_datetime"
      ]
     },
     "execution_count": 18,
     "metadata": {
      "tags": []
     },
     "output_type": "execute_result"
    }
   ],
   "source": [
    "# Get the features in the training data but not in the validation or test data\n",
    "uncommon_feature_train_not_val_test = np.setdiff1d(df_train.columns, df_common_var['common var'])\n",
    "\n",
    "pd.DataFrame(uncommon_feature_train_not_val_test, columns = ['Uncommon feature'])"
   ]
  },
  {
   "cell_type": "code",
   "execution_count": 19,
   "metadata": {
    "colab": {
     "base_uri": "https://localhost:8080/",
     "height": 77
    },
    "id": "S5DRk2mA9_qH",
    "outputId": "a43473ab-4a4d-4953-c8b5-23c4c9a685ba"
   },
   "outputs": [
    {
     "data": {
      "text/html": [
       "<div>\n",
       "<style scoped>\n",
       "    .dataframe tbody tr th:only-of-type {\n",
       "        vertical-align: middle;\n",
       "    }\n",
       "\n",
       "    .dataframe tbody tr th {\n",
       "        vertical-align: top;\n",
       "    }\n",
       "\n",
       "    .dataframe thead th {\n",
       "        text-align: right;\n",
       "    }\n",
       "</style>\n",
       "<table border=\"1\" class=\"dataframe\">\n",
       "  <thead>\n",
       "    <tr style=\"text-align: right;\">\n",
       "      <th></th>\n",
       "      <th>Uncommon feature</th>\n",
       "    </tr>\n",
       "  </thead>\n",
       "  <tbody>\n",
       "    <tr>\n",
       "      <th>0</th>\n",
       "      <td>dropoff_datetime</td>\n",
       "    </tr>\n",
       "  </tbody>\n",
       "</table>\n",
       "</div>"
      ],
      "text/plain": [
       "   Uncommon feature\n",
       "0  dropoff_datetime"
      ]
     },
     "execution_count": 19,
     "metadata": {
      "tags": []
     },
     "output_type": "execute_result"
    }
   ],
   "source": [
    "# Get the features in the validation data but not in the training or test data\n",
    "uncommon_feature_val_not_train_test = np.setdiff1d(df_val.columns, df_common_var['common var'])\n",
    "\n",
    "pd.DataFrame(uncommon_feature_val_not_train_test, columns=['Uncommon feature'])"
   ]
  },
  {
   "cell_type": "code",
   "execution_count": 20,
   "metadata": {
    "colab": {
     "base_uri": "https://localhost:8080/",
     "height": 77
    },
    "id": "qOu9uarABVKW",
    "outputId": "a87b7f0c-3bea-4fe6-d425-fae6a71941b6"
   },
   "outputs": [
    {
     "data": {
      "text/html": [
       "<div>\n",
       "<style scoped>\n",
       "    .dataframe tbody tr th:only-of-type {\n",
       "        vertical-align: middle;\n",
       "    }\n",
       "\n",
       "    .dataframe tbody tr th {\n",
       "        vertical-align: top;\n",
       "    }\n",
       "\n",
       "    .dataframe thead th {\n",
       "        text-align: right;\n",
       "    }\n",
       "</style>\n",
       "<table border=\"1\" class=\"dataframe\">\n",
       "  <thead>\n",
       "    <tr style=\"text-align: right;\">\n",
       "      <th></th>\n",
       "      <th>Uncommon feature</th>\n",
       "    </tr>\n",
       "  </thead>\n",
       "  <tbody>\n",
       "    <tr>\n",
       "      <th>0</th>\n",
       "      <td>dropoff_datetime</td>\n",
       "    </tr>\n",
       "  </tbody>\n",
       "</table>\n",
       "</div>"
      ],
      "text/plain": [
       "   Uncommon feature\n",
       "0  dropoff_datetime"
      ]
     },
     "execution_count": 20,
     "metadata": {
      "tags": []
     },
     "output_type": "execute_result"
    }
   ],
   "source": [
    "# Get the features in the test data but not in the training or validation data\n",
    "uncommon_feature_test_not_train_val = np.setdiff1d(df_val.columns, df_common_var['common var'])\n",
    "\n",
    "pd.DataFrame(uncommon_feature_test_not_train_val, columns=['Uncommon feature'])"
   ]
  },
  {
   "cell_type": "markdown",
   "metadata": {
    "id": "tp-X0nV-oGSa"
   },
   "source": [
    "### Removing Uncommon feature"
   ]
  },
  {
   "cell_type": "code",
   "execution_count": 21,
   "metadata": {
    "colab": {
     "base_uri": "https://localhost:8080/",
     "height": 299
    },
    "id": "iPXARW3hBPDk",
    "outputId": "7f026225-37bd-4c16-a172-728d816fd6b5"
   },
   "outputs": [
    {
     "data": {
      "text/html": [
       "<div>\n",
       "<style scoped>\n",
       "    .dataframe tbody tr th:only-of-type {\n",
       "        vertical-align: middle;\n",
       "    }\n",
       "\n",
       "    .dataframe tbody tr th {\n",
       "        vertical-align: top;\n",
       "    }\n",
       "\n",
       "    .dataframe thead th {\n",
       "        text-align: right;\n",
       "    }\n",
       "</style>\n",
       "<table border=\"1\" class=\"dataframe\">\n",
       "  <thead>\n",
       "    <tr style=\"text-align: right;\">\n",
       "      <th></th>\n",
       "      <th>id</th>\n",
       "      <th>vendor_id</th>\n",
       "      <th>pickup_datetime</th>\n",
       "      <th>passenger_count</th>\n",
       "      <th>pickup_longitude</th>\n",
       "      <th>pickup_latitude</th>\n",
       "      <th>dropoff_longitude</th>\n",
       "      <th>dropoff_latitude</th>\n",
       "      <th>store_and_fwd_flag</th>\n",
       "      <th>trip_duration</th>\n",
       "    </tr>\n",
       "  </thead>\n",
       "  <tbody>\n",
       "    <tr>\n",
       "      <th>0</th>\n",
       "      <td>id0458976</td>\n",
       "      <td>2</td>\n",
       "      <td>2016-06-29 18:21:02</td>\n",
       "      <td>1</td>\n",
       "      <td>-73.862762</td>\n",
       "      <td>40.768822</td>\n",
       "      <td>-73.891701</td>\n",
       "      <td>40.746689</td>\n",
       "      <td>N</td>\n",
       "      <td>1133</td>\n",
       "    </tr>\n",
       "    <tr>\n",
       "      <th>1</th>\n",
       "      <td>id0434613</td>\n",
       "      <td>2</td>\n",
       "      <td>2016-04-25 13:03:26</td>\n",
       "      <td>1</td>\n",
       "      <td>-73.958038</td>\n",
       "      <td>40.783237</td>\n",
       "      <td>-73.975510</td>\n",
       "      <td>40.760853</td>\n",
       "      <td>N</td>\n",
       "      <td>887</td>\n",
       "    </tr>\n",
       "    <tr>\n",
       "      <th>2</th>\n",
       "      <td>id3809234</td>\n",
       "      <td>2</td>\n",
       "      <td>2016-05-07 12:36:09</td>\n",
       "      <td>1</td>\n",
       "      <td>-73.969460</td>\n",
       "      <td>40.785519</td>\n",
       "      <td>-73.989243</td>\n",
       "      <td>40.771748</td>\n",
       "      <td>N</td>\n",
       "      <td>686</td>\n",
       "    </tr>\n",
       "    <tr>\n",
       "      <th>3</th>\n",
       "      <td>id1203705</td>\n",
       "      <td>1</td>\n",
       "      <td>2016-05-14 18:44:17</td>\n",
       "      <td>1</td>\n",
       "      <td>-73.981743</td>\n",
       "      <td>40.736549</td>\n",
       "      <td>-73.998352</td>\n",
       "      <td>40.726440</td>\n",
       "      <td>N</td>\n",
       "      <td>818</td>\n",
       "    </tr>\n",
       "    <tr>\n",
       "      <th>4</th>\n",
       "      <td>id1896645</td>\n",
       "      <td>2</td>\n",
       "      <td>2016-04-10 22:51:25</td>\n",
       "      <td>1</td>\n",
       "      <td>-73.977913</td>\n",
       "      <td>40.752609</td>\n",
       "      <td>-73.975647</td>\n",
       "      <td>40.733139</td>\n",
       "      <td>N</td>\n",
       "      <td>951</td>\n",
       "    </tr>\n",
       "  </tbody>\n",
       "</table>\n",
       "</div>"
      ],
      "text/plain": [
       "          id  vendor_id  ... store_and_fwd_flag  trip_duration\n",
       "0  id0458976          2  ...                  N           1133\n",
       "1  id0434613          2  ...                  N            887\n",
       "2  id3809234          2  ...                  N            686\n",
       "3  id1203705          1  ...                  N            818\n",
       "4  id1896645          2  ...                  N            951\n",
       "\n",
       "[5 rows x 10 columns]"
      ]
     },
     "execution_count": 21,
     "metadata": {
      "tags": []
     },
     "output_type": "execute_result"
    }
   ],
   "source": [
    "# Remove the uncommon features from the training data\n",
    "df_train = df_train.drop(columns=uncommon_feature_train_not_val_test)\n",
    "\n",
    "df_train.head()"
   ]
  },
  {
   "cell_type": "code",
   "execution_count": 22,
   "metadata": {
    "colab": {
     "base_uri": "https://localhost:8080/",
     "height": 299
    },
    "id": "UXwLuumEUa_m",
    "outputId": "0cd94683-ac7c-40ec-ddac-fbf8b41a55b6"
   },
   "outputs": [
    {
     "data": {
      "text/html": [
       "<div>\n",
       "<style scoped>\n",
       "    .dataframe tbody tr th:only-of-type {\n",
       "        vertical-align: middle;\n",
       "    }\n",
       "\n",
       "    .dataframe tbody tr th {\n",
       "        vertical-align: top;\n",
       "    }\n",
       "\n",
       "    .dataframe thead th {\n",
       "        text-align: right;\n",
       "    }\n",
       "</style>\n",
       "<table border=\"1\" class=\"dataframe\">\n",
       "  <thead>\n",
       "    <tr style=\"text-align: right;\">\n",
       "      <th></th>\n",
       "      <th>id</th>\n",
       "      <th>vendor_id</th>\n",
       "      <th>pickup_datetime</th>\n",
       "      <th>passenger_count</th>\n",
       "      <th>pickup_longitude</th>\n",
       "      <th>pickup_latitude</th>\n",
       "      <th>dropoff_longitude</th>\n",
       "      <th>dropoff_latitude</th>\n",
       "      <th>store_and_fwd_flag</th>\n",
       "      <th>trip_duration</th>\n",
       "    </tr>\n",
       "  </thead>\n",
       "  <tbody>\n",
       "    <tr>\n",
       "      <th>0</th>\n",
       "      <td>id2793718</td>\n",
       "      <td>2</td>\n",
       "      <td>2016-06-08 07:36:19</td>\n",
       "      <td>1</td>\n",
       "      <td>-73.985611</td>\n",
       "      <td>40.735943</td>\n",
       "      <td>-73.980331</td>\n",
       "      <td>40.760468</td>\n",
       "      <td>N</td>\n",
       "      <td>1040</td>\n",
       "    </tr>\n",
       "    <tr>\n",
       "      <th>1</th>\n",
       "      <td>id3485529</td>\n",
       "      <td>2</td>\n",
       "      <td>2016-04-03 12:58:11</td>\n",
       "      <td>1</td>\n",
       "      <td>-73.978394</td>\n",
       "      <td>40.764351</td>\n",
       "      <td>-73.991623</td>\n",
       "      <td>40.749859</td>\n",
       "      <td>N</td>\n",
       "      <td>827</td>\n",
       "    </tr>\n",
       "    <tr>\n",
       "      <th>2</th>\n",
       "      <td>id1816614</td>\n",
       "      <td>2</td>\n",
       "      <td>2016-06-05 02:49:13</td>\n",
       "      <td>5</td>\n",
       "      <td>-73.989059</td>\n",
       "      <td>40.744389</td>\n",
       "      <td>-73.973381</td>\n",
       "      <td>40.748692</td>\n",
       "      <td>N</td>\n",
       "      <td>614</td>\n",
       "    </tr>\n",
       "    <tr>\n",
       "      <th>3</th>\n",
       "      <td>id1050851</td>\n",
       "      <td>2</td>\n",
       "      <td>2016-05-05 17:18:27</td>\n",
       "      <td>2</td>\n",
       "      <td>-73.990326</td>\n",
       "      <td>40.731136</td>\n",
       "      <td>-73.991264</td>\n",
       "      <td>40.748917</td>\n",
       "      <td>N</td>\n",
       "      <td>867</td>\n",
       "    </tr>\n",
       "    <tr>\n",
       "      <th>4</th>\n",
       "      <td>id0140657</td>\n",
       "      <td>1</td>\n",
       "      <td>2016-05-12 17:43:38</td>\n",
       "      <td>4</td>\n",
       "      <td>-73.789497</td>\n",
       "      <td>40.646675</td>\n",
       "      <td>-73.987137</td>\n",
       "      <td>40.759232</td>\n",
       "      <td>N</td>\n",
       "      <td>4967</td>\n",
       "    </tr>\n",
       "  </tbody>\n",
       "</table>\n",
       "</div>"
      ],
      "text/plain": [
       "          id  vendor_id  ... store_and_fwd_flag  trip_duration\n",
       "0  id2793718          2  ...                  N           1040\n",
       "1  id3485529          2  ...                  N            827\n",
       "2  id1816614          2  ...                  N            614\n",
       "3  id1050851          2  ...                  N            867\n",
       "4  id0140657          1  ...                  N           4967\n",
       "\n",
       "[5 rows x 10 columns]"
      ]
     },
     "execution_count": 22,
     "metadata": {
      "tags": []
     },
     "output_type": "execute_result"
    }
   ],
   "source": [
    "# Remove the uncommon features from the validation data\n",
    "df_val = df_val.drop(columns=uncommon_feature_val_not_train_test)\n",
    "\n",
    "# Print the first 5 rows of df_train\n",
    "df_val.head()"
   ]
  },
  {
   "cell_type": "markdown",
   "metadata": {
    "id": "8gP62DoUTkE4"
   },
   "source": [
    "### Handling Identifiers"
   ]
  },
  {
   "cell_type": "code",
   "execution_count": 23,
   "metadata": {
    "colab": {
     "base_uri": "https://localhost:8080/",
     "height": 195
    },
    "id": "JxpBXOInEh01",
    "outputId": "7dcdc0e1-8527-4145-aeb9-b33837d3ee07"
   },
   "outputs": [
    {
     "data": {
      "text/html": [
       "<div>\n",
       "<style scoped>\n",
       "    .dataframe tbody tr th:only-of-type {\n",
       "        vertical-align: middle;\n",
       "    }\n",
       "\n",
       "    .dataframe tbody tr th {\n",
       "        vertical-align: top;\n",
       "    }\n",
       "\n",
       "    .dataframe thead th {\n",
       "        text-align: right;\n",
       "    }\n",
       "</style>\n",
       "<table border=\"1\" class=\"dataframe\">\n",
       "  <thead>\n",
       "    <tr style=\"text-align: right;\">\n",
       "      <th></th>\n",
       "      <th>id</th>\n",
       "    </tr>\n",
       "  </thead>\n",
       "  <tbody>\n",
       "    <tr>\n",
       "      <th>0</th>\n",
       "      <td>id0458976</td>\n",
       "    </tr>\n",
       "    <tr>\n",
       "      <th>1</th>\n",
       "      <td>id0434613</td>\n",
       "    </tr>\n",
       "    <tr>\n",
       "      <th>2</th>\n",
       "      <td>id3809234</td>\n",
       "    </tr>\n",
       "    <tr>\n",
       "      <th>3</th>\n",
       "      <td>id1203705</td>\n",
       "    </tr>\n",
       "    <tr>\n",
       "      <th>4</th>\n",
       "      <td>id1896645</td>\n",
       "    </tr>\n",
       "  </tbody>\n",
       "</table>\n",
       "</div>"
      ],
      "text/plain": [
       "          id\n",
       "0  id0458976\n",
       "1  id0434613\n",
       "2  id3809234\n",
       "3  id1203705\n",
       "4  id1896645"
      ]
     },
     "execution_count": 23,
     "metadata": {
      "tags": []
     },
     "output_type": "execute_result"
    }
   ],
   "source": [
    "# Combine df_train, df_val and df_test\n",
    "df = pd.concat([df_train, df_val, df_test], sort=False)\n",
    "\n",
    "# Used the implementation in pmlm_utilities.ipynb\n",
    "df_id = id_checker(df)\n",
    "\n",
    "# Print the first 5 rows of df_id\n",
    "df_id.head()"
   ]
  },
  {
   "cell_type": "code",
   "execution_count": 24,
   "metadata": {
    "id": "znDxOxspFFfW"
   },
   "outputs": [],
   "source": [
    "import numpy as np\n",
    "\n",
    "# Remove identifiers from df_train\n",
    "df_train.drop(columns=np.intersect1d(df_id.columns, df_train.columns), inplace=True)\n",
    "\n",
    "# Remove identifiers from df_val\n",
    "df_val.drop(columns=np.intersect1d(df_id.columns, df_val.columns), inplace=True)\n",
    "\n",
    "# Remove identifiers from df_test\n",
    "df_test.drop(columns=np.intersect1d(df_id.columns, df_test.columns), inplace=True)"
   ]
  },
  {
   "cell_type": "code",
   "execution_count": 25,
   "metadata": {
    "colab": {
     "base_uri": "https://localhost:8080/",
     "height": 299
    },
    "id": "Go24LeFlFNkM",
    "outputId": "53bd4a6e-14e4-445d-bbf1-143d7843e041"
   },
   "outputs": [
    {
     "data": {
      "text/html": [
       "<div>\n",
       "<style scoped>\n",
       "    .dataframe tbody tr th:only-of-type {\n",
       "        vertical-align: middle;\n",
       "    }\n",
       "\n",
       "    .dataframe tbody tr th {\n",
       "        vertical-align: top;\n",
       "    }\n",
       "\n",
       "    .dataframe thead th {\n",
       "        text-align: right;\n",
       "    }\n",
       "</style>\n",
       "<table border=\"1\" class=\"dataframe\">\n",
       "  <thead>\n",
       "    <tr style=\"text-align: right;\">\n",
       "      <th></th>\n",
       "      <th>vendor_id</th>\n",
       "      <th>pickup_datetime</th>\n",
       "      <th>passenger_count</th>\n",
       "      <th>pickup_longitude</th>\n",
       "      <th>pickup_latitude</th>\n",
       "      <th>dropoff_longitude</th>\n",
       "      <th>dropoff_latitude</th>\n",
       "      <th>store_and_fwd_flag</th>\n",
       "      <th>trip_duration</th>\n",
       "    </tr>\n",
       "  </thead>\n",
       "  <tbody>\n",
       "    <tr>\n",
       "      <th>0</th>\n",
       "      <td>2</td>\n",
       "      <td>2016-06-29 18:21:02</td>\n",
       "      <td>1</td>\n",
       "      <td>-73.862762</td>\n",
       "      <td>40.768822</td>\n",
       "      <td>-73.891701</td>\n",
       "      <td>40.746689</td>\n",
       "      <td>N</td>\n",
       "      <td>1133</td>\n",
       "    </tr>\n",
       "    <tr>\n",
       "      <th>1</th>\n",
       "      <td>2</td>\n",
       "      <td>2016-04-25 13:03:26</td>\n",
       "      <td>1</td>\n",
       "      <td>-73.958038</td>\n",
       "      <td>40.783237</td>\n",
       "      <td>-73.975510</td>\n",
       "      <td>40.760853</td>\n",
       "      <td>N</td>\n",
       "      <td>887</td>\n",
       "    </tr>\n",
       "    <tr>\n",
       "      <th>2</th>\n",
       "      <td>2</td>\n",
       "      <td>2016-05-07 12:36:09</td>\n",
       "      <td>1</td>\n",
       "      <td>-73.969460</td>\n",
       "      <td>40.785519</td>\n",
       "      <td>-73.989243</td>\n",
       "      <td>40.771748</td>\n",
       "      <td>N</td>\n",
       "      <td>686</td>\n",
       "    </tr>\n",
       "    <tr>\n",
       "      <th>3</th>\n",
       "      <td>1</td>\n",
       "      <td>2016-05-14 18:44:17</td>\n",
       "      <td>1</td>\n",
       "      <td>-73.981743</td>\n",
       "      <td>40.736549</td>\n",
       "      <td>-73.998352</td>\n",
       "      <td>40.726440</td>\n",
       "      <td>N</td>\n",
       "      <td>818</td>\n",
       "    </tr>\n",
       "    <tr>\n",
       "      <th>4</th>\n",
       "      <td>2</td>\n",
       "      <td>2016-04-10 22:51:25</td>\n",
       "      <td>1</td>\n",
       "      <td>-73.977913</td>\n",
       "      <td>40.752609</td>\n",
       "      <td>-73.975647</td>\n",
       "      <td>40.733139</td>\n",
       "      <td>N</td>\n",
       "      <td>951</td>\n",
       "    </tr>\n",
       "  </tbody>\n",
       "</table>\n",
       "</div>"
      ],
      "text/plain": [
       "   vendor_id      pickup_datetime  ...  store_and_fwd_flag  trip_duration\n",
       "0          2  2016-06-29 18:21:02  ...                   N           1133\n",
       "1          2  2016-04-25 13:03:26  ...                   N            887\n",
       "2          2  2016-05-07 12:36:09  ...                   N            686\n",
       "3          1  2016-05-14 18:44:17  ...                   N            818\n",
       "4          2  2016-04-10 22:51:25  ...                   N            951\n",
       "\n",
       "[5 rows x 9 columns]"
      ]
     },
     "execution_count": 25,
     "metadata": {
      "tags": []
     },
     "output_type": "execute_result"
    }
   ],
   "source": [
    "df_train.head(5)"
   ]
  },
  {
   "cell_type": "code",
   "execution_count": 26,
   "metadata": {
    "colab": {
     "base_uri": "https://localhost:8080/",
     "height": 299
    },
    "id": "VMOkjEGyFxkW",
    "outputId": "52e26993-b075-4da6-c5ee-626fbd0bb001"
   },
   "outputs": [
    {
     "data": {
      "text/html": [
       "<div>\n",
       "<style scoped>\n",
       "    .dataframe tbody tr th:only-of-type {\n",
       "        vertical-align: middle;\n",
       "    }\n",
       "\n",
       "    .dataframe tbody tr th {\n",
       "        vertical-align: top;\n",
       "    }\n",
       "\n",
       "    .dataframe thead th {\n",
       "        text-align: right;\n",
       "    }\n",
       "</style>\n",
       "<table border=\"1\" class=\"dataframe\">\n",
       "  <thead>\n",
       "    <tr style=\"text-align: right;\">\n",
       "      <th></th>\n",
       "      <th>vendor_id</th>\n",
       "      <th>pickup_datetime</th>\n",
       "      <th>passenger_count</th>\n",
       "      <th>pickup_longitude</th>\n",
       "      <th>pickup_latitude</th>\n",
       "      <th>dropoff_longitude</th>\n",
       "      <th>dropoff_latitude</th>\n",
       "      <th>store_and_fwd_flag</th>\n",
       "      <th>trip_duration</th>\n",
       "    </tr>\n",
       "  </thead>\n",
       "  <tbody>\n",
       "    <tr>\n",
       "      <th>0</th>\n",
       "      <td>2</td>\n",
       "      <td>2016-06-08 07:36:19</td>\n",
       "      <td>1</td>\n",
       "      <td>-73.985611</td>\n",
       "      <td>40.735943</td>\n",
       "      <td>-73.980331</td>\n",
       "      <td>40.760468</td>\n",
       "      <td>N</td>\n",
       "      <td>1040</td>\n",
       "    </tr>\n",
       "    <tr>\n",
       "      <th>1</th>\n",
       "      <td>2</td>\n",
       "      <td>2016-04-03 12:58:11</td>\n",
       "      <td>1</td>\n",
       "      <td>-73.978394</td>\n",
       "      <td>40.764351</td>\n",
       "      <td>-73.991623</td>\n",
       "      <td>40.749859</td>\n",
       "      <td>N</td>\n",
       "      <td>827</td>\n",
       "    </tr>\n",
       "    <tr>\n",
       "      <th>2</th>\n",
       "      <td>2</td>\n",
       "      <td>2016-06-05 02:49:13</td>\n",
       "      <td>5</td>\n",
       "      <td>-73.989059</td>\n",
       "      <td>40.744389</td>\n",
       "      <td>-73.973381</td>\n",
       "      <td>40.748692</td>\n",
       "      <td>N</td>\n",
       "      <td>614</td>\n",
       "    </tr>\n",
       "    <tr>\n",
       "      <th>3</th>\n",
       "      <td>2</td>\n",
       "      <td>2016-05-05 17:18:27</td>\n",
       "      <td>2</td>\n",
       "      <td>-73.990326</td>\n",
       "      <td>40.731136</td>\n",
       "      <td>-73.991264</td>\n",
       "      <td>40.748917</td>\n",
       "      <td>N</td>\n",
       "      <td>867</td>\n",
       "    </tr>\n",
       "    <tr>\n",
       "      <th>4</th>\n",
       "      <td>1</td>\n",
       "      <td>2016-05-12 17:43:38</td>\n",
       "      <td>4</td>\n",
       "      <td>-73.789497</td>\n",
       "      <td>40.646675</td>\n",
       "      <td>-73.987137</td>\n",
       "      <td>40.759232</td>\n",
       "      <td>N</td>\n",
       "      <td>4967</td>\n",
       "    </tr>\n",
       "  </tbody>\n",
       "</table>\n",
       "</div>"
      ],
      "text/plain": [
       "   vendor_id      pickup_datetime  ...  store_and_fwd_flag  trip_duration\n",
       "0          2  2016-06-08 07:36:19  ...                   N           1040\n",
       "1          2  2016-04-03 12:58:11  ...                   N            827\n",
       "2          2  2016-06-05 02:49:13  ...                   N            614\n",
       "3          2  2016-05-05 17:18:27  ...                   N            867\n",
       "4          1  2016-05-12 17:43:38  ...                   N           4967\n",
       "\n",
       "[5 rows x 9 columns]"
      ]
     },
     "execution_count": 26,
     "metadata": {
      "tags": []
     },
     "output_type": "execute_result"
    }
   ],
   "source": [
    "df_val.head(5)"
   ]
  },
  {
   "cell_type": "code",
   "execution_count": 27,
   "metadata": {
    "colab": {
     "base_uri": "https://localhost:8080/",
     "height": 195
    },
    "id": "9j5krY6DF12i",
    "outputId": "0c95003b-7773-4942-b5f7-c71848a64b24"
   },
   "outputs": [
    {
     "data": {
      "text/html": [
       "<div>\n",
       "<style scoped>\n",
       "    .dataframe tbody tr th:only-of-type {\n",
       "        vertical-align: middle;\n",
       "    }\n",
       "\n",
       "    .dataframe tbody tr th {\n",
       "        vertical-align: top;\n",
       "    }\n",
       "\n",
       "    .dataframe thead th {\n",
       "        text-align: right;\n",
       "    }\n",
       "</style>\n",
       "<table border=\"1\" class=\"dataframe\">\n",
       "  <thead>\n",
       "    <tr style=\"text-align: right;\">\n",
       "      <th></th>\n",
       "      <th>vendor_id</th>\n",
       "      <th>pickup_datetime</th>\n",
       "      <th>passenger_count</th>\n",
       "      <th>pickup_longitude</th>\n",
       "      <th>pickup_latitude</th>\n",
       "      <th>dropoff_longitude</th>\n",
       "      <th>dropoff_latitude</th>\n",
       "      <th>store_and_fwd_flag</th>\n",
       "    </tr>\n",
       "  </thead>\n",
       "  <tbody>\n",
       "    <tr>\n",
       "      <th>0</th>\n",
       "      <td>1</td>\n",
       "      <td>2016-06-30 23:59:58</td>\n",
       "      <td>1</td>\n",
       "      <td>-73.988129</td>\n",
       "      <td>40.732029</td>\n",
       "      <td>-73.990173</td>\n",
       "      <td>40.756680</td>\n",
       "      <td>N</td>\n",
       "    </tr>\n",
       "    <tr>\n",
       "      <th>1</th>\n",
       "      <td>1</td>\n",
       "      <td>2016-06-30 23:59:53</td>\n",
       "      <td>1</td>\n",
       "      <td>-73.964203</td>\n",
       "      <td>40.679993</td>\n",
       "      <td>-73.959808</td>\n",
       "      <td>40.655403</td>\n",
       "      <td>N</td>\n",
       "    </tr>\n",
       "    <tr>\n",
       "      <th>2</th>\n",
       "      <td>1</td>\n",
       "      <td>2016-06-30 23:59:47</td>\n",
       "      <td>1</td>\n",
       "      <td>-73.997437</td>\n",
       "      <td>40.737583</td>\n",
       "      <td>-73.986160</td>\n",
       "      <td>40.729523</td>\n",
       "      <td>N</td>\n",
       "    </tr>\n",
       "    <tr>\n",
       "      <th>3</th>\n",
       "      <td>2</td>\n",
       "      <td>2016-06-30 23:59:41</td>\n",
       "      <td>1</td>\n",
       "      <td>-73.956070</td>\n",
       "      <td>40.771900</td>\n",
       "      <td>-73.986427</td>\n",
       "      <td>40.730469</td>\n",
       "      <td>N</td>\n",
       "    </tr>\n",
       "    <tr>\n",
       "      <th>4</th>\n",
       "      <td>1</td>\n",
       "      <td>2016-06-30 23:59:33</td>\n",
       "      <td>1</td>\n",
       "      <td>-73.970215</td>\n",
       "      <td>40.761475</td>\n",
       "      <td>-73.961510</td>\n",
       "      <td>40.755890</td>\n",
       "      <td>N</td>\n",
       "    </tr>\n",
       "  </tbody>\n",
       "</table>\n",
       "</div>"
      ],
      "text/plain": [
       "   vendor_id      pickup_datetime  ...  dropoff_latitude  store_and_fwd_flag\n",
       "0          1  2016-06-30 23:59:58  ...         40.756680                   N\n",
       "1          1  2016-06-30 23:59:53  ...         40.655403                   N\n",
       "2          1  2016-06-30 23:59:47  ...         40.729523                   N\n",
       "3          2  2016-06-30 23:59:41  ...         40.730469                   N\n",
       "4          1  2016-06-30 23:59:33  ...         40.755890                   N\n",
       "\n",
       "[5 rows x 8 columns]"
      ]
     },
     "execution_count": 27,
     "metadata": {
      "tags": []
     },
     "output_type": "execute_result"
    }
   ],
   "source": [
    "df_test.head(5)"
   ]
  },
  {
   "cell_type": "markdown",
   "metadata": {
    "id": "DgB6yrs-VStR"
   },
   "source": [
    "### Datetime Variables"
   ]
  },
  {
   "cell_type": "code",
   "execution_count": 28,
   "metadata": {
    "id": "x8b_pWuAY-uH"
   },
   "outputs": [],
   "source": [
    "datetime_vars = ['pickup_datetime']\n"
   ]
  },
  {
   "cell_type": "code",
   "execution_count": 29,
   "metadata": {
    "id": "NMZrlSpeVXSV"
   },
   "outputs": [],
   "source": [
    "df_train = datetime_transformer(df_train, datetime_vars)\n"
   ]
  },
  {
   "cell_type": "code",
   "execution_count": 30,
   "metadata": {
    "colab": {
     "base_uri": "https://localhost:8080/",
     "height": 215
    },
    "id": "7_3GemEQcx48",
    "outputId": "f44da754-82bd-4412-a44a-85f6c0e12757"
   },
   "outputs": [
    {
     "data": {
      "text/html": [
       "<div>\n",
       "<style scoped>\n",
       "    .dataframe tbody tr th:only-of-type {\n",
       "        vertical-align: middle;\n",
       "    }\n",
       "\n",
       "    .dataframe tbody tr th {\n",
       "        vertical-align: top;\n",
       "    }\n",
       "\n",
       "    .dataframe thead th {\n",
       "        text-align: right;\n",
       "    }\n",
       "</style>\n",
       "<table border=\"1\" class=\"dataframe\">\n",
       "  <thead>\n",
       "    <tr style=\"text-align: right;\">\n",
       "      <th></th>\n",
       "      <th>vendor_id</th>\n",
       "      <th>passenger_count</th>\n",
       "      <th>pickup_longitude</th>\n",
       "      <th>pickup_latitude</th>\n",
       "      <th>dropoff_longitude</th>\n",
       "      <th>dropoff_latitude</th>\n",
       "      <th>store_and_fwd_flag</th>\n",
       "      <th>trip_duration</th>\n",
       "      <th>pickup_datetime_year</th>\n",
       "      <th>pickup_datetime_month</th>\n",
       "      <th>pickup_datetime_day</th>\n",
       "      <th>pickup_datetime_hour</th>\n",
       "      <th>pickup_datetime_minute</th>\n",
       "      <th>pickup_datetime_second</th>\n",
       "    </tr>\n",
       "  </thead>\n",
       "  <tbody>\n",
       "    <tr>\n",
       "      <th>0</th>\n",
       "      <td>2</td>\n",
       "      <td>1</td>\n",
       "      <td>-73.862762</td>\n",
       "      <td>40.768822</td>\n",
       "      <td>-73.891701</td>\n",
       "      <td>40.746689</td>\n",
       "      <td>N</td>\n",
       "      <td>1133</td>\n",
       "      <td>2016</td>\n",
       "      <td>6</td>\n",
       "      <td>29</td>\n",
       "      <td>18</td>\n",
       "      <td>21</td>\n",
       "      <td>2</td>\n",
       "    </tr>\n",
       "    <tr>\n",
       "      <th>1</th>\n",
       "      <td>2</td>\n",
       "      <td>1</td>\n",
       "      <td>-73.958038</td>\n",
       "      <td>40.783237</td>\n",
       "      <td>-73.975510</td>\n",
       "      <td>40.760853</td>\n",
       "      <td>N</td>\n",
       "      <td>887</td>\n",
       "      <td>2016</td>\n",
       "      <td>4</td>\n",
       "      <td>25</td>\n",
       "      <td>13</td>\n",
       "      <td>3</td>\n",
       "      <td>26</td>\n",
       "    </tr>\n",
       "    <tr>\n",
       "      <th>2</th>\n",
       "      <td>2</td>\n",
       "      <td>1</td>\n",
       "      <td>-73.969460</td>\n",
       "      <td>40.785519</td>\n",
       "      <td>-73.989243</td>\n",
       "      <td>40.771748</td>\n",
       "      <td>N</td>\n",
       "      <td>686</td>\n",
       "      <td>2016</td>\n",
       "      <td>5</td>\n",
       "      <td>7</td>\n",
       "      <td>12</td>\n",
       "      <td>36</td>\n",
       "      <td>9</td>\n",
       "    </tr>\n",
       "    <tr>\n",
       "      <th>3</th>\n",
       "      <td>1</td>\n",
       "      <td>1</td>\n",
       "      <td>-73.981743</td>\n",
       "      <td>40.736549</td>\n",
       "      <td>-73.998352</td>\n",
       "      <td>40.726440</td>\n",
       "      <td>N</td>\n",
       "      <td>818</td>\n",
       "      <td>2016</td>\n",
       "      <td>5</td>\n",
       "      <td>14</td>\n",
       "      <td>18</td>\n",
       "      <td>44</td>\n",
       "      <td>17</td>\n",
       "    </tr>\n",
       "    <tr>\n",
       "      <th>4</th>\n",
       "      <td>2</td>\n",
       "      <td>1</td>\n",
       "      <td>-73.977913</td>\n",
       "      <td>40.752609</td>\n",
       "      <td>-73.975647</td>\n",
       "      <td>40.733139</td>\n",
       "      <td>N</td>\n",
       "      <td>951</td>\n",
       "      <td>2016</td>\n",
       "      <td>4</td>\n",
       "      <td>10</td>\n",
       "      <td>22</td>\n",
       "      <td>51</td>\n",
       "      <td>25</td>\n",
       "    </tr>\n",
       "  </tbody>\n",
       "</table>\n",
       "</div>"
      ],
      "text/plain": [
       "   vendor_id  passenger_count  ...  pickup_datetime_minute  pickup_datetime_second\n",
       "0          2                1  ...                      21                       2\n",
       "1          2                1  ...                       3                      26\n",
       "2          2                1  ...                      36                       9\n",
       "3          1                1  ...                      44                      17\n",
       "4          2                1  ...                      51                      25\n",
       "\n",
       "[5 rows x 14 columns]"
      ]
     },
     "execution_count": 30,
     "metadata": {
      "tags": []
     },
     "output_type": "execute_result"
    }
   ],
   "source": [
    "df_train.head()"
   ]
  },
  {
   "cell_type": "code",
   "execution_count": 31,
   "metadata": {
    "colab": {
     "base_uri": "https://localhost:8080/",
     "height": 215
    },
    "id": "mOMUpQL1dFWg",
    "outputId": "56f243a4-f721-4af3-8f29-3931b4936819"
   },
   "outputs": [
    {
     "data": {
      "text/html": [
       "<div>\n",
       "<style scoped>\n",
       "    .dataframe tbody tr th:only-of-type {\n",
       "        vertical-align: middle;\n",
       "    }\n",
       "\n",
       "    .dataframe tbody tr th {\n",
       "        vertical-align: top;\n",
       "    }\n",
       "\n",
       "    .dataframe thead th {\n",
       "        text-align: right;\n",
       "    }\n",
       "</style>\n",
       "<table border=\"1\" class=\"dataframe\">\n",
       "  <thead>\n",
       "    <tr style=\"text-align: right;\">\n",
       "      <th></th>\n",
       "      <th>vendor_id</th>\n",
       "      <th>passenger_count</th>\n",
       "      <th>pickup_longitude</th>\n",
       "      <th>pickup_latitude</th>\n",
       "      <th>dropoff_longitude</th>\n",
       "      <th>dropoff_latitude</th>\n",
       "      <th>store_and_fwd_flag</th>\n",
       "      <th>trip_duration</th>\n",
       "      <th>pickup_datetime_year</th>\n",
       "      <th>pickup_datetime_month</th>\n",
       "      <th>pickup_datetime_day</th>\n",
       "      <th>pickup_datetime_hour</th>\n",
       "      <th>pickup_datetime_minute</th>\n",
       "      <th>pickup_datetime_second</th>\n",
       "    </tr>\n",
       "  </thead>\n",
       "  <tbody>\n",
       "    <tr>\n",
       "      <th>0</th>\n",
       "      <td>2</td>\n",
       "      <td>1</td>\n",
       "      <td>-73.985611</td>\n",
       "      <td>40.735943</td>\n",
       "      <td>-73.980331</td>\n",
       "      <td>40.760468</td>\n",
       "      <td>N</td>\n",
       "      <td>1040</td>\n",
       "      <td>2016</td>\n",
       "      <td>6</td>\n",
       "      <td>8</td>\n",
       "      <td>7</td>\n",
       "      <td>36</td>\n",
       "      <td>19</td>\n",
       "    </tr>\n",
       "    <tr>\n",
       "      <th>1</th>\n",
       "      <td>2</td>\n",
       "      <td>1</td>\n",
       "      <td>-73.978394</td>\n",
       "      <td>40.764351</td>\n",
       "      <td>-73.991623</td>\n",
       "      <td>40.749859</td>\n",
       "      <td>N</td>\n",
       "      <td>827</td>\n",
       "      <td>2016</td>\n",
       "      <td>4</td>\n",
       "      <td>3</td>\n",
       "      <td>12</td>\n",
       "      <td>58</td>\n",
       "      <td>11</td>\n",
       "    </tr>\n",
       "    <tr>\n",
       "      <th>2</th>\n",
       "      <td>2</td>\n",
       "      <td>5</td>\n",
       "      <td>-73.989059</td>\n",
       "      <td>40.744389</td>\n",
       "      <td>-73.973381</td>\n",
       "      <td>40.748692</td>\n",
       "      <td>N</td>\n",
       "      <td>614</td>\n",
       "      <td>2016</td>\n",
       "      <td>6</td>\n",
       "      <td>5</td>\n",
       "      <td>2</td>\n",
       "      <td>49</td>\n",
       "      <td>13</td>\n",
       "    </tr>\n",
       "    <tr>\n",
       "      <th>3</th>\n",
       "      <td>2</td>\n",
       "      <td>2</td>\n",
       "      <td>-73.990326</td>\n",
       "      <td>40.731136</td>\n",
       "      <td>-73.991264</td>\n",
       "      <td>40.748917</td>\n",
       "      <td>N</td>\n",
       "      <td>867</td>\n",
       "      <td>2016</td>\n",
       "      <td>5</td>\n",
       "      <td>5</td>\n",
       "      <td>17</td>\n",
       "      <td>18</td>\n",
       "      <td>27</td>\n",
       "    </tr>\n",
       "    <tr>\n",
       "      <th>4</th>\n",
       "      <td>1</td>\n",
       "      <td>4</td>\n",
       "      <td>-73.789497</td>\n",
       "      <td>40.646675</td>\n",
       "      <td>-73.987137</td>\n",
       "      <td>40.759232</td>\n",
       "      <td>N</td>\n",
       "      <td>4967</td>\n",
       "      <td>2016</td>\n",
       "      <td>5</td>\n",
       "      <td>12</td>\n",
       "      <td>17</td>\n",
       "      <td>43</td>\n",
       "      <td>38</td>\n",
       "    </tr>\n",
       "  </tbody>\n",
       "</table>\n",
       "</div>"
      ],
      "text/plain": [
       "   vendor_id  passenger_count  ...  pickup_datetime_minute  pickup_datetime_second\n",
       "0          2                1  ...                      36                      19\n",
       "1          2                1  ...                      58                      11\n",
       "2          2                5  ...                      49                      13\n",
       "3          2                2  ...                      18                      27\n",
       "4          1                4  ...                      43                      38\n",
       "\n",
       "[5 rows x 14 columns]"
      ]
     },
     "execution_count": 31,
     "metadata": {
      "tags": []
     },
     "output_type": "execute_result"
    }
   ],
   "source": [
    "df_val = datetime_transformer(df_val, datetime_vars)\n",
    "\n",
    "df_val.head()"
   ]
  },
  {
   "cell_type": "code",
   "execution_count": 32,
   "metadata": {
    "colab": {
     "base_uri": "https://localhost:8080/",
     "height": 215
    },
    "id": "DiWoydrGdO5t",
    "outputId": "c827787f-8af0-4f16-b25a-29631b967953"
   },
   "outputs": [
    {
     "data": {
      "text/html": [
       "<div>\n",
       "<style scoped>\n",
       "    .dataframe tbody tr th:only-of-type {\n",
       "        vertical-align: middle;\n",
       "    }\n",
       "\n",
       "    .dataframe tbody tr th {\n",
       "        vertical-align: top;\n",
       "    }\n",
       "\n",
       "    .dataframe thead th {\n",
       "        text-align: right;\n",
       "    }\n",
       "</style>\n",
       "<table border=\"1\" class=\"dataframe\">\n",
       "  <thead>\n",
       "    <tr style=\"text-align: right;\">\n",
       "      <th></th>\n",
       "      <th>vendor_id</th>\n",
       "      <th>passenger_count</th>\n",
       "      <th>pickup_longitude</th>\n",
       "      <th>pickup_latitude</th>\n",
       "      <th>dropoff_longitude</th>\n",
       "      <th>dropoff_latitude</th>\n",
       "      <th>store_and_fwd_flag</th>\n",
       "      <th>pickup_datetime_year</th>\n",
       "      <th>pickup_datetime_month</th>\n",
       "      <th>pickup_datetime_day</th>\n",
       "      <th>pickup_datetime_hour</th>\n",
       "      <th>pickup_datetime_minute</th>\n",
       "      <th>pickup_datetime_second</th>\n",
       "    </tr>\n",
       "  </thead>\n",
       "  <tbody>\n",
       "    <tr>\n",
       "      <th>0</th>\n",
       "      <td>1</td>\n",
       "      <td>1</td>\n",
       "      <td>-73.988129</td>\n",
       "      <td>40.732029</td>\n",
       "      <td>-73.990173</td>\n",
       "      <td>40.756680</td>\n",
       "      <td>N</td>\n",
       "      <td>2016</td>\n",
       "      <td>6</td>\n",
       "      <td>30</td>\n",
       "      <td>23</td>\n",
       "      <td>59</td>\n",
       "      <td>58</td>\n",
       "    </tr>\n",
       "    <tr>\n",
       "      <th>1</th>\n",
       "      <td>1</td>\n",
       "      <td>1</td>\n",
       "      <td>-73.964203</td>\n",
       "      <td>40.679993</td>\n",
       "      <td>-73.959808</td>\n",
       "      <td>40.655403</td>\n",
       "      <td>N</td>\n",
       "      <td>2016</td>\n",
       "      <td>6</td>\n",
       "      <td>30</td>\n",
       "      <td>23</td>\n",
       "      <td>59</td>\n",
       "      <td>53</td>\n",
       "    </tr>\n",
       "    <tr>\n",
       "      <th>2</th>\n",
       "      <td>1</td>\n",
       "      <td>1</td>\n",
       "      <td>-73.997437</td>\n",
       "      <td>40.737583</td>\n",
       "      <td>-73.986160</td>\n",
       "      <td>40.729523</td>\n",
       "      <td>N</td>\n",
       "      <td>2016</td>\n",
       "      <td>6</td>\n",
       "      <td>30</td>\n",
       "      <td>23</td>\n",
       "      <td>59</td>\n",
       "      <td>47</td>\n",
       "    </tr>\n",
       "    <tr>\n",
       "      <th>3</th>\n",
       "      <td>2</td>\n",
       "      <td>1</td>\n",
       "      <td>-73.956070</td>\n",
       "      <td>40.771900</td>\n",
       "      <td>-73.986427</td>\n",
       "      <td>40.730469</td>\n",
       "      <td>N</td>\n",
       "      <td>2016</td>\n",
       "      <td>6</td>\n",
       "      <td>30</td>\n",
       "      <td>23</td>\n",
       "      <td>59</td>\n",
       "      <td>41</td>\n",
       "    </tr>\n",
       "    <tr>\n",
       "      <th>4</th>\n",
       "      <td>1</td>\n",
       "      <td>1</td>\n",
       "      <td>-73.970215</td>\n",
       "      <td>40.761475</td>\n",
       "      <td>-73.961510</td>\n",
       "      <td>40.755890</td>\n",
       "      <td>N</td>\n",
       "      <td>2016</td>\n",
       "      <td>6</td>\n",
       "      <td>30</td>\n",
       "      <td>23</td>\n",
       "      <td>59</td>\n",
       "      <td>33</td>\n",
       "    </tr>\n",
       "  </tbody>\n",
       "</table>\n",
       "</div>"
      ],
      "text/plain": [
       "   vendor_id  passenger_count  ...  pickup_datetime_minute  pickup_datetime_second\n",
       "0          1                1  ...                      59                      58\n",
       "1          1                1  ...                      59                      53\n",
       "2          1                1  ...                      59                      47\n",
       "3          2                1  ...                      59                      41\n",
       "4          1                1  ...                      59                      33\n",
       "\n",
       "[5 rows x 13 columns]"
      ]
     },
     "execution_count": 32,
     "metadata": {
      "tags": []
     },
     "output_type": "execute_result"
    }
   ],
   "source": [
    "df_test = datetime_transformer(df_test, datetime_vars)\n",
    "\n",
    "df_test.head()"
   ]
  },
  {
   "cell_type": "markdown",
   "metadata": {
    "id": "JbD08U7WddSC"
   },
   "source": [
    "### Handling Missing Values"
   ]
  },
  {
   "cell_type": "code",
   "execution_count": 33,
   "metadata": {
    "id": "PEooPGB0dcQt"
   },
   "outputs": [],
   "source": [
    "# Combine df_train, df_val and df_test\n",
    "df = pd.concat([df_train, df_val, df_test], sort=False)\n"
   ]
  },
  {
   "cell_type": "code",
   "execution_count": 34,
   "metadata": {
    "colab": {
     "base_uri": "https://localhost:8080/",
     "height": 77
    },
    "id": "LnWt-NyXdquM",
    "outputId": "abc7d31e-7eb5-4d7a-b6a6-4524c155dfdc"
   },
   "outputs": [
    {
     "data": {
      "text/html": [
       "<div>\n",
       "<style scoped>\n",
       "    .dataframe tbody tr th:only-of-type {\n",
       "        vertical-align: middle;\n",
       "    }\n",
       "\n",
       "    .dataframe tbody tr th {\n",
       "        vertical-align: top;\n",
       "    }\n",
       "\n",
       "    .dataframe thead th {\n",
       "        text-align: right;\n",
       "    }\n",
       "</style>\n",
       "<table border=\"1\" class=\"dataframe\">\n",
       "  <thead>\n",
       "    <tr style=\"text-align: right;\">\n",
       "      <th></th>\n",
       "      <th>var</th>\n",
       "      <th>proportion</th>\n",
       "      <th>dtype</th>\n",
       "    </tr>\n",
       "  </thead>\n",
       "  <tbody>\n",
       "    <tr>\n",
       "      <th>0</th>\n",
       "      <td>trip_duration</td>\n",
       "      <td>0.3</td>\n",
       "      <td>float64</td>\n",
       "    </tr>\n",
       "  </tbody>\n",
       "</table>\n",
       "</div>"
      ],
      "text/plain": [
       "             var  proportion    dtype\n",
       "0  trip_duration         0.3  float64"
      ]
     },
     "execution_count": 34,
     "metadata": {
      "tags": []
     },
     "output_type": "execute_result"
    }
   ],
   "source": [
    "# Use the implementation in pmlm_utilities.ipynb\n",
    "df_nan = nan_checker(df)\n",
    "\n",
    "# Print df_nan\n",
    "df_nan"
   ]
  },
  {
   "cell_type": "code",
   "execution_count": 35,
   "metadata": {
    "colab": {
     "base_uri": "https://localhost:8080/",
     "height": 77
    },
    "id": "4NvT3TpLf2nN",
    "outputId": "ad41f792-1793-411a-a8df-f580a47569d4"
   },
   "outputs": [
    {
     "data": {
      "text/html": [
       "<div>\n",
       "<style scoped>\n",
       "    .dataframe tbody tr th:only-of-type {\n",
       "        vertical-align: middle;\n",
       "    }\n",
       "\n",
       "    .dataframe tbody tr th {\n",
       "        vertical-align: top;\n",
       "    }\n",
       "\n",
       "    .dataframe thead th {\n",
       "        text-align: right;\n",
       "    }\n",
       "</style>\n",
       "<table border=\"1\" class=\"dataframe\">\n",
       "  <thead>\n",
       "    <tr style=\"text-align: right;\">\n",
       "      <th></th>\n",
       "      <th>dtype</th>\n",
       "    </tr>\n",
       "  </thead>\n",
       "  <tbody>\n",
       "    <tr>\n",
       "      <th>0</th>\n",
       "      <td>float64</td>\n",
       "    </tr>\n",
       "  </tbody>\n",
       "</table>\n",
       "</div>"
      ],
      "text/plain": [
       "     dtype\n",
       "0  float64"
      ]
     },
     "execution_count": 35,
     "metadata": {
      "tags": []
     },
     "output_type": "execute_result"
    }
   ],
   "source": [
    "# Print the unique data type of variables with NaN\n",
    "pd.DataFrame(df_nan['dtype'].unique(), columns=['dtype'])"
   ]
  },
  {
   "cell_type": "code",
   "execution_count": 36,
   "metadata": {
    "colab": {
     "base_uri": "https://localhost:8080/",
     "height": 77
    },
    "id": "xRul_eNPpppd",
    "outputId": "9801cabc-9911-4e23-85ed-8524f97e176e"
   },
   "outputs": [
    {
     "data": {
      "text/html": [
       "<div>\n",
       "<style scoped>\n",
       "    .dataframe tbody tr th:only-of-type {\n",
       "        vertical-align: middle;\n",
       "    }\n",
       "\n",
       "    .dataframe tbody tr th {\n",
       "        vertical-align: top;\n",
       "    }\n",
       "\n",
       "    .dataframe thead th {\n",
       "        text-align: right;\n",
       "    }\n",
       "</style>\n",
       "<table border=\"1\" class=\"dataframe\">\n",
       "  <thead>\n",
       "    <tr style=\"text-align: right;\">\n",
       "      <th></th>\n",
       "      <th>var</th>\n",
       "      <th>proportion</th>\n",
       "      <th>dtype</th>\n",
       "    </tr>\n",
       "  </thead>\n",
       "  <tbody>\n",
       "    <tr>\n",
       "      <th>0</th>\n",
       "      <td>trip_duration</td>\n",
       "      <td>0.3</td>\n",
       "      <td>float64</td>\n",
       "    </tr>\n",
       "  </tbody>\n",
       "</table>\n",
       "</div>"
      ],
      "text/plain": [
       "             var  proportion    dtype\n",
       "0  trip_duration         0.3  float64"
      ]
     },
     "execution_count": 36,
     "metadata": {
      "tags": []
     },
     "output_type": "execute_result"
    }
   ],
   "source": [
    "# Get the variables with missing values, their proportion of missing values and data type\n",
    "df_miss = df_nan[df_nan['dtype'] == 'float64'].reset_index(drop=True)\n",
    "\n",
    "# Print df_miss\n",
    "df_miss"
   ]
  },
  {
   "cell_type": "code",
   "execution_count": 37,
   "metadata": {
    "id": "gPSPR1w8fIlY"
   },
   "outputs": [],
   "source": [
    "# Splitting training, validation and testing data again\n",
    "df_train = df.iloc[:df_train.shape[0], :]\n",
    "\n",
    "# Separating the validation data\n",
    "df_val = df.iloc[df_train.shape[0]:df_train.shape[0] + df_val.shape[0], :]\n",
    "\n",
    "# Separating the test data\n",
    "df_test = df.iloc[df_train.shape[0] + df_val.shape[0]:, :]\n"
   ]
  },
  {
   "cell_type": "code",
   "execution_count": 38,
   "metadata": {
    "colab": {
     "base_uri": "https://localhost:8080/",
     "height": 77
    },
    "id": "q6n61wIYfGEV",
    "outputId": "e5ea4664-13e4-4ec9-ed75-cd7869705263"
   },
   "outputs": [
    {
     "data": {
      "text/html": [
       "<div>\n",
       "<style scoped>\n",
       "    .dataframe tbody tr th:only-of-type {\n",
       "        vertical-align: middle;\n",
       "    }\n",
       "\n",
       "    .dataframe tbody tr th {\n",
       "        vertical-align: top;\n",
       "    }\n",
       "\n",
       "    .dataframe thead th {\n",
       "        text-align: right;\n",
       "    }\n",
       "</style>\n",
       "<table border=\"1\" class=\"dataframe\">\n",
       "  <thead>\n",
       "    <tr style=\"text-align: right;\">\n",
       "      <th></th>\n",
       "      <th># of rows</th>\n",
       "      <th># of columns</th>\n",
       "    </tr>\n",
       "  </thead>\n",
       "  <tbody>\n",
       "    <tr>\n",
       "      <th>0</th>\n",
       "      <td>1166915</td>\n",
       "      <td>14</td>\n",
       "    </tr>\n",
       "  </tbody>\n",
       "</table>\n",
       "</div>"
      ],
      "text/plain": [
       "   # of rows  # of columns\n",
       "0    1166915            14"
      ]
     },
     "execution_count": 38,
     "metadata": {
      "tags": []
     },
     "output_type": "execute_result"
    }
   ],
   "source": [
    "pd.DataFrame([[df_train.shape[0],df_train.shape[1]]], columns=['# of rows','# of columns'])"
   ]
  },
  {
   "cell_type": "code",
   "execution_count": 39,
   "metadata": {
    "colab": {
     "base_uri": "https://localhost:8080/",
     "height": 77
    },
    "id": "dvDvxy1pfmqm",
    "outputId": "4e1d025d-d688-404a-e426-c347e14ecc8b"
   },
   "outputs": [
    {
     "data": {
      "text/html": [
       "<div>\n",
       "<style scoped>\n",
       "    .dataframe tbody tr th:only-of-type {\n",
       "        vertical-align: middle;\n",
       "    }\n",
       "\n",
       "    .dataframe tbody tr th {\n",
       "        vertical-align: top;\n",
       "    }\n",
       "\n",
       "    .dataframe thead th {\n",
       "        text-align: right;\n",
       "    }\n",
       "</style>\n",
       "<table border=\"1\" class=\"dataframe\">\n",
       "  <thead>\n",
       "    <tr style=\"text-align: right;\">\n",
       "      <th></th>\n",
       "      <th># of rows</th>\n",
       "      <th># of columns</th>\n",
       "    </tr>\n",
       "  </thead>\n",
       "  <tbody>\n",
       "    <tr>\n",
       "      <th>0</th>\n",
       "      <td>291729</td>\n",
       "      <td>14</td>\n",
       "    </tr>\n",
       "  </tbody>\n",
       "</table>\n",
       "</div>"
      ],
      "text/plain": [
       "   # of rows  # of columns\n",
       "0     291729            14"
      ]
     },
     "execution_count": 39,
     "metadata": {
      "tags": []
     },
     "output_type": "execute_result"
    }
   ],
   "source": [
    "pd.DataFrame([[df_val.shape[0],df_val.shape[1]]], columns=['# of rows','# of columns'])"
   ]
  },
  {
   "cell_type": "code",
   "execution_count": 40,
   "metadata": {
    "colab": {
     "base_uri": "https://localhost:8080/",
     "height": 77
    },
    "id": "Z8tFmsCjfrBk",
    "outputId": "0c3a9e85-5086-4ae3-f5c4-bca8888d92f4"
   },
   "outputs": [
    {
     "data": {
      "text/html": [
       "<div>\n",
       "<style scoped>\n",
       "    .dataframe tbody tr th:only-of-type {\n",
       "        vertical-align: middle;\n",
       "    }\n",
       "\n",
       "    .dataframe tbody tr th {\n",
       "        vertical-align: top;\n",
       "    }\n",
       "\n",
       "    .dataframe thead th {\n",
       "        text-align: right;\n",
       "    }\n",
       "</style>\n",
       "<table border=\"1\" class=\"dataframe\">\n",
       "  <thead>\n",
       "    <tr style=\"text-align: right;\">\n",
       "      <th></th>\n",
       "      <th># of rows</th>\n",
       "      <th># of columns</th>\n",
       "    </tr>\n",
       "  </thead>\n",
       "  <tbody>\n",
       "    <tr>\n",
       "      <th>0</th>\n",
       "      <td>625134</td>\n",
       "      <td>14</td>\n",
       "    </tr>\n",
       "  </tbody>\n",
       "</table>\n",
       "</div>"
      ],
      "text/plain": [
       "   # of rows  # of columns\n",
       "0     625134            14"
      ]
     },
     "execution_count": 40,
     "metadata": {
      "tags": []
     },
     "output_type": "execute_result"
    }
   ],
   "source": [
    "pd.DataFrame([[df_test.shape[0],df_test.shape[1]]], columns=['# of rows','# of columns'])"
   ]
  },
  {
   "cell_type": "code",
   "execution_count": 41,
   "metadata": {
    "id": "dwnQKAVbd69I"
   },
   "outputs": [],
   "source": [
    "from sklearn.impute import SimpleImputer\n",
    "\n",
    "# If there are missing values\n",
    "if len(df_miss['var']) > 0:\n",
    "    # The SimpleImputer\n",
    "    si = SimpleImputer(missing_values=np.nan, strategy='mean')\n",
    "\n",
    "    # Impute the variables with missing values in df_train, df_val and df_test \n",
    "    df_train[df_miss['var']] = si.fit_transform(df_train[df_miss['var']])\n",
    "    df_val[df_miss['var']] = si.transform(df_val[df_miss['var']])\n",
    "    df_test[df_miss['var']] = si.transform(df_test[df_miss['var']])"
   ]
  },
  {
   "cell_type": "markdown",
   "metadata": {
    "id": "dk37602FgSc1"
   },
   "source": [
    "### Enconding Categorical Data"
   ]
  },
  {
   "cell_type": "code",
   "execution_count": 42,
   "metadata": {
    "colab": {
     "base_uri": "https://localhost:8080/",
     "height": 136
    },
    "id": "FTmPcZi3gVML",
    "outputId": "9d51f05e-db2d-41e0-970e-7261a845230e"
   },
   "outputs": [
    {
     "data": {
      "text/html": [
       "<div>\n",
       "<style scoped>\n",
       "    .dataframe tbody tr th:only-of-type {\n",
       "        vertical-align: middle;\n",
       "    }\n",
       "\n",
       "    .dataframe tbody tr th {\n",
       "        vertical-align: top;\n",
       "    }\n",
       "\n",
       "    .dataframe thead th {\n",
       "        text-align: right;\n",
       "    }\n",
       "</style>\n",
       "<table border=\"1\" class=\"dataframe\">\n",
       "  <thead>\n",
       "    <tr style=\"text-align: right;\">\n",
       "      <th></th>\n",
       "      <th>dtype</th>\n",
       "    </tr>\n",
       "  </thead>\n",
       "  <tbody>\n",
       "    <tr>\n",
       "      <th>0</th>\n",
       "      <td>int64</td>\n",
       "    </tr>\n",
       "    <tr>\n",
       "      <th>1</th>\n",
       "      <td>float64</td>\n",
       "    </tr>\n",
       "    <tr>\n",
       "      <th>2</th>\n",
       "      <td>object</td>\n",
       "    </tr>\n",
       "  </tbody>\n",
       "</table>\n",
       "</div>"
      ],
      "text/plain": [
       "     dtype\n",
       "0    int64\n",
       "1  float64\n",
       "2   object"
      ]
     },
     "execution_count": 42,
     "metadata": {
      "tags": []
     },
     "output_type": "execute_result"
    }
   ],
   "source": [
    "# Combine df_train, df_val and df_test\n",
    "df = pd.concat([df_train, df_val, df_test], sort=False)\n",
    "\n",
    "# Print the unique data type of variables in df\n",
    "pd.DataFrame(df.dtypes.unique(), columns=['dtype'])"
   ]
  },
  {
   "cell_type": "code",
   "execution_count": 43,
   "metadata": {
    "colab": {
     "base_uri": "https://localhost:8080/",
     "height": 77
    },
    "id": "sEkFFZM3f6Tc",
    "outputId": "30b16845-d9e3-4a5e-92d7-6ae3f845ecb5"
   },
   "outputs": [
    {
     "data": {
      "text/html": [
       "<div>\n",
       "<style scoped>\n",
       "    .dataframe tbody tr th:only-of-type {\n",
       "        vertical-align: middle;\n",
       "    }\n",
       "\n",
       "    .dataframe tbody tr th {\n",
       "        vertical-align: top;\n",
       "    }\n",
       "\n",
       "    .dataframe thead th {\n",
       "        text-align: right;\n",
       "    }\n",
       "</style>\n",
       "<table border=\"1\" class=\"dataframe\">\n",
       "  <thead>\n",
       "    <tr style=\"text-align: right;\">\n",
       "      <th></th>\n",
       "      <th>var</th>\n",
       "      <th>nunique</th>\n",
       "    </tr>\n",
       "  </thead>\n",
       "  <tbody>\n",
       "    <tr>\n",
       "      <th>0</th>\n",
       "      <td>store_and_fwd_flag</td>\n",
       "      <td>2</td>\n",
       "    </tr>\n",
       "  </tbody>\n",
       "</table>\n",
       "</div>"
      ],
      "text/plain": [
       "                  var  nunique\n",
       "0  store_and_fwd_flag        2"
      ]
     },
     "execution_count": 43,
     "metadata": {
      "tags": []
     },
     "output_type": "execute_result"
    }
   ],
   "source": [
    "# Used the implementation in pmlm_utilities.ipynb\n",
    "df_cat = cat_var_checker(df)\n",
    "\n",
    "# Print the dataframe\n",
    "df_cat"
   ]
  },
  {
   "cell_type": "code",
   "execution_count": 44,
   "metadata": {
    "colab": {
     "base_uri": "https://localhost:8080/",
     "height": 215
    },
    "id": "n-AAZJRsgzQK",
    "outputId": "0b4b0ef0-ecff-4dd3-9723-00682dfc9e9e"
   },
   "outputs": [
    {
     "data": {
      "text/html": [
       "<div>\n",
       "<style scoped>\n",
       "    .dataframe tbody tr th:only-of-type {\n",
       "        vertical-align: middle;\n",
       "    }\n",
       "\n",
       "    .dataframe tbody tr th {\n",
       "        vertical-align: top;\n",
       "    }\n",
       "\n",
       "    .dataframe thead th {\n",
       "        text-align: right;\n",
       "    }\n",
       "</style>\n",
       "<table border=\"1\" class=\"dataframe\">\n",
       "  <thead>\n",
       "    <tr style=\"text-align: right;\">\n",
       "      <th></th>\n",
       "      <th>vendor_id</th>\n",
       "      <th>passenger_count</th>\n",
       "      <th>pickup_longitude</th>\n",
       "      <th>pickup_latitude</th>\n",
       "      <th>dropoff_longitude</th>\n",
       "      <th>dropoff_latitude</th>\n",
       "      <th>trip_duration</th>\n",
       "      <th>pickup_datetime_year</th>\n",
       "      <th>pickup_datetime_month</th>\n",
       "      <th>pickup_datetime_day</th>\n",
       "      <th>pickup_datetime_hour</th>\n",
       "      <th>pickup_datetime_minute</th>\n",
       "      <th>pickup_datetime_second</th>\n",
       "      <th>store_and_fwd_flag_N</th>\n",
       "      <th>store_and_fwd_flag_Y</th>\n",
       "    </tr>\n",
       "  </thead>\n",
       "  <tbody>\n",
       "    <tr>\n",
       "      <th>0</th>\n",
       "      <td>2</td>\n",
       "      <td>1</td>\n",
       "      <td>-73.862762</td>\n",
       "      <td>40.768822</td>\n",
       "      <td>-73.891701</td>\n",
       "      <td>40.746689</td>\n",
       "      <td>1133.0</td>\n",
       "      <td>2016</td>\n",
       "      <td>6</td>\n",
       "      <td>29</td>\n",
       "      <td>18</td>\n",
       "      <td>21</td>\n",
       "      <td>2</td>\n",
       "      <td>1</td>\n",
       "      <td>0</td>\n",
       "    </tr>\n",
       "    <tr>\n",
       "      <th>1</th>\n",
       "      <td>2</td>\n",
       "      <td>1</td>\n",
       "      <td>-73.958038</td>\n",
       "      <td>40.783237</td>\n",
       "      <td>-73.975510</td>\n",
       "      <td>40.760853</td>\n",
       "      <td>887.0</td>\n",
       "      <td>2016</td>\n",
       "      <td>4</td>\n",
       "      <td>25</td>\n",
       "      <td>13</td>\n",
       "      <td>3</td>\n",
       "      <td>26</td>\n",
       "      <td>1</td>\n",
       "      <td>0</td>\n",
       "    </tr>\n",
       "    <tr>\n",
       "      <th>2</th>\n",
       "      <td>2</td>\n",
       "      <td>1</td>\n",
       "      <td>-73.969460</td>\n",
       "      <td>40.785519</td>\n",
       "      <td>-73.989243</td>\n",
       "      <td>40.771748</td>\n",
       "      <td>686.0</td>\n",
       "      <td>2016</td>\n",
       "      <td>5</td>\n",
       "      <td>7</td>\n",
       "      <td>12</td>\n",
       "      <td>36</td>\n",
       "      <td>9</td>\n",
       "      <td>1</td>\n",
       "      <td>0</td>\n",
       "    </tr>\n",
       "    <tr>\n",
       "      <th>3</th>\n",
       "      <td>1</td>\n",
       "      <td>1</td>\n",
       "      <td>-73.981743</td>\n",
       "      <td>40.736549</td>\n",
       "      <td>-73.998352</td>\n",
       "      <td>40.726440</td>\n",
       "      <td>818.0</td>\n",
       "      <td>2016</td>\n",
       "      <td>5</td>\n",
       "      <td>14</td>\n",
       "      <td>18</td>\n",
       "      <td>44</td>\n",
       "      <td>17</td>\n",
       "      <td>1</td>\n",
       "      <td>0</td>\n",
       "    </tr>\n",
       "    <tr>\n",
       "      <th>4</th>\n",
       "      <td>2</td>\n",
       "      <td>1</td>\n",
       "      <td>-73.977913</td>\n",
       "      <td>40.752609</td>\n",
       "      <td>-73.975647</td>\n",
       "      <td>40.733139</td>\n",
       "      <td>951.0</td>\n",
       "      <td>2016</td>\n",
       "      <td>4</td>\n",
       "      <td>10</td>\n",
       "      <td>22</td>\n",
       "      <td>51</td>\n",
       "      <td>25</td>\n",
       "      <td>1</td>\n",
       "      <td>0</td>\n",
       "    </tr>\n",
       "  </tbody>\n",
       "</table>\n",
       "</div>"
      ],
      "text/plain": [
       "   vendor_id  passenger_count  ...  store_and_fwd_flag_N  store_and_fwd_flag_Y\n",
       "0          2                1  ...                     1                     0\n",
       "1          2                1  ...                     1                     0\n",
       "2          2                1  ...                     1                     0\n",
       "3          1                1  ...                     1                     0\n",
       "4          2                1  ...                     1                     0\n",
       "\n",
       "[5 rows x 15 columns]"
      ]
     },
     "execution_count": 44,
     "metadata": {
      "tags": []
     },
     "output_type": "execute_result"
    }
   ],
   "source": [
    "# One-hot-encode the categorical features in the combined data\n",
    "df = pd.get_dummies(df, columns=np.setdiff1d(df_cat['var'], [target]))\n",
    "\n",
    "# Print the first 5 rows of df\n",
    "df.head()"
   ]
  },
  {
   "cell_type": "code",
   "execution_count": 45,
   "metadata": {
    "id": "isyQhY2jhCjd"
   },
   "outputs": [],
   "source": [
    "# Separating the training data\n",
    "df_train = df.iloc[:df_train.shape[0], :]\n",
    "\n",
    "# Separating the validation data\n",
    "df_val = df.iloc[df_train.shape[0]:df_train.shape[0] + df_val.shape[0], :]\n",
    "\n",
    "# Separating the test data\n",
    "df_test = df.iloc[df_train.shape[0] + df_val.shape[0]:, :]"
   ]
  },
  {
   "cell_type": "code",
   "execution_count": 46,
   "metadata": {
    "colab": {
     "base_uri": "https://localhost:8080/",
     "height": 77
    },
    "id": "VKI5b24RhHmp",
    "outputId": "ee21faaf-8ea9-4f15-8142-435389f9d5b8"
   },
   "outputs": [
    {
     "data": {
      "text/html": [
       "<div>\n",
       "<style scoped>\n",
       "    .dataframe tbody tr th:only-of-type {\n",
       "        vertical-align: middle;\n",
       "    }\n",
       "\n",
       "    .dataframe tbody tr th {\n",
       "        vertical-align: top;\n",
       "    }\n",
       "\n",
       "    .dataframe thead th {\n",
       "        text-align: right;\n",
       "    }\n",
       "</style>\n",
       "<table border=\"1\" class=\"dataframe\">\n",
       "  <thead>\n",
       "    <tr style=\"text-align: right;\">\n",
       "      <th></th>\n",
       "      <th># of rows</th>\n",
       "      <th># of columns</th>\n",
       "    </tr>\n",
       "  </thead>\n",
       "  <tbody>\n",
       "    <tr>\n",
       "      <th>0</th>\n",
       "      <td>1166915</td>\n",
       "      <td>15</td>\n",
       "    </tr>\n",
       "  </tbody>\n",
       "</table>\n",
       "</div>"
      ],
      "text/plain": [
       "   # of rows  # of columns\n",
       "0    1166915            15"
      ]
     },
     "execution_count": 46,
     "metadata": {
      "tags": []
     },
     "output_type": "execute_result"
    }
   ],
   "source": [
    "pd.DataFrame([[df_train.shape[0], df_train.shape[1]]], columns=['# of rows','# of columns'])"
   ]
  },
  {
   "cell_type": "code",
   "execution_count": 47,
   "metadata": {
    "colab": {
     "base_uri": "https://localhost:8080/",
     "height": 77
    },
    "id": "LKVjYErhhaaG",
    "outputId": "707f702a-2347-4750-f589-af94c893d790"
   },
   "outputs": [
    {
     "data": {
      "text/html": [
       "<div>\n",
       "<style scoped>\n",
       "    .dataframe tbody tr th:only-of-type {\n",
       "        vertical-align: middle;\n",
       "    }\n",
       "\n",
       "    .dataframe tbody tr th {\n",
       "        vertical-align: top;\n",
       "    }\n",
       "\n",
       "    .dataframe thead th {\n",
       "        text-align: right;\n",
       "    }\n",
       "</style>\n",
       "<table border=\"1\" class=\"dataframe\">\n",
       "  <thead>\n",
       "    <tr style=\"text-align: right;\">\n",
       "      <th></th>\n",
       "      <th># of rows</th>\n",
       "      <th># of columns</th>\n",
       "    </tr>\n",
       "  </thead>\n",
       "  <tbody>\n",
       "    <tr>\n",
       "      <th>0</th>\n",
       "      <td>291729</td>\n",
       "      <td>15</td>\n",
       "    </tr>\n",
       "  </tbody>\n",
       "</table>\n",
       "</div>"
      ],
      "text/plain": [
       "   # of rows  # of columns\n",
       "0     291729            15"
      ]
     },
     "execution_count": 47,
     "metadata": {
      "tags": []
     },
     "output_type": "execute_result"
    }
   ],
   "source": [
    "pd.DataFrame([[df_val.shape[0], df_val.shape[1]]], columns=['# of rows','# of columns'])"
   ]
  },
  {
   "cell_type": "code",
   "execution_count": 48,
   "metadata": {
    "colab": {
     "base_uri": "https://localhost:8080/",
     "height": 77
    },
    "id": "lcADlAdxhW82",
    "outputId": "a608400f-54f9-4d2f-89c8-37f0f337763c"
   },
   "outputs": [
    {
     "data": {
      "text/html": [
       "<div>\n",
       "<style scoped>\n",
       "    .dataframe tbody tr th:only-of-type {\n",
       "        vertical-align: middle;\n",
       "    }\n",
       "\n",
       "    .dataframe tbody tr th {\n",
       "        vertical-align: top;\n",
       "    }\n",
       "\n",
       "    .dataframe thead th {\n",
       "        text-align: right;\n",
       "    }\n",
       "</style>\n",
       "<table border=\"1\" class=\"dataframe\">\n",
       "  <thead>\n",
       "    <tr style=\"text-align: right;\">\n",
       "      <th></th>\n",
       "      <th># of rows</th>\n",
       "      <th># of columns</th>\n",
       "    </tr>\n",
       "  </thead>\n",
       "  <tbody>\n",
       "    <tr>\n",
       "      <th>0</th>\n",
       "      <td>625134</td>\n",
       "      <td>15</td>\n",
       "    </tr>\n",
       "  </tbody>\n",
       "</table>\n",
       "</div>"
      ],
      "text/plain": [
       "   # of rows  # of columns\n",
       "0     625134            15"
      ]
     },
     "execution_count": 48,
     "metadata": {
      "tags": []
     },
     "output_type": "execute_result"
    }
   ],
   "source": [
    "pd.DataFrame([[df_test.shape[0], df_test.shape[1]]], columns=['# of rows','# of columns'])"
   ]
  },
  {
   "cell_type": "markdown",
   "metadata": {
    "id": "nv3P-zQPhq-n"
   },
   "source": [
    "### Splitting Feature and target"
   ]
  },
  {
   "cell_type": "code",
   "execution_count": 49,
   "metadata": {
    "id": "zg605iHXhnZA"
   },
   "outputs": [],
   "source": [
    "# Get the feature matrix\n",
    "X_train = df_train[np.setdiff1d(df_train.columns, [target])].values\n",
    "X_val = df_val[np.setdiff1d(df_val.columns, [target])].values\n",
    "X_test = df_test[np.setdiff1d(df_test.columns, [target])].values\n",
    "\n",
    "# Get the target vector\n",
    "y_train = df_train[target].values\n",
    "y_val = df_val[target].values\n",
    "y_test = df_test[target].values"
   ]
  },
  {
   "cell_type": "markdown",
   "metadata": {
    "id": "9At903wkiEzF"
   },
   "source": [
    "### Scaling the Data (Standard Scaler)"
   ]
  },
  {
   "cell_type": "code",
   "execution_count": 50,
   "metadata": {
    "id": "RhoAA9QGkmA3"
   },
   "outputs": [],
   "source": [
    "\n",
    "\n",
    "from sklearn.preprocessing import StandardScaler\n",
    "\n",
    "# The StandardScaler\n",
    "ss = StandardScaler()"
   ]
  },
  {
   "cell_type": "code",
   "execution_count": 51,
   "metadata": {
    "id": "vTeGegi5kytw"
   },
   "outputs": [],
   "source": [
    "#Normalizing the features\n",
    "\n",
    "# Normalize the training data\n",
    "X_train = ss.fit_transform(X_train)\n",
    "\n",
    "# Normalize the validation data\n",
    "X_val = ss.transform(X_val)\n",
    "\n",
    "# Normalize the test data\n",
    "X_test = ss.transform(X_test)"
   ]
  },
  {
   "cell_type": "code",
   "execution_count": 52,
   "metadata": {
    "id": "QWFJbXR8k9TO"
   },
   "outputs": [],
   "source": [
    "#Normalizing the target\n",
    "# Normalize the training data\n",
    "y_train = ss.fit_transform(y_train.reshape(-1,1)).reshape(-1)\n",
    "\n",
    "# Normalize the validation data\n",
    "y_val = ss.transform(y_val.reshape(-1,1)).reshape(-1)\n",
    "\n",
    "# Normalize the test data\n",
    "y_test = ss.transform(y_test.reshape(-1,1)).reshape(-1)"
   ]
  },
  {
   "cell_type": "markdown",
   "metadata": {
    "id": "Of56ObPGe31x"
   },
   "source": [
    "# Hyperparameter Tuning"
   ]
  },
  {
   "cell_type": "code",
   "execution_count": 53,
   "metadata": {
    "id": "dn4TP8so9-ce"
   },
   "outputs": [],
   "source": [
    "import os\n",
    "\n",
    "# Make directory\n",
    "directory = os.path.dirname(abspath_curr + 'result/figure/')\n",
    "if not os.path.exists(directory):\n",
    "    os.makedirs(directory)"
   ]
  },
  {
   "cell_type": "code",
   "execution_count": 54,
   "metadata": {
    "colab": {
     "base_uri": "https://localhost:8080/",
     "height": 1000
    },
    "id": "rHGP5viF3sj1",
    "outputId": "47cb1389-0f36-4cd5-8b26-5ed46e1a85e8"
   },
   "outputs": [
    {
     "name": "stdout",
     "output_type": "stream",
     "text": [
      "/content/drive/My Drive/Colab Notebooks/teaching/gwu/machine_learning_I/spring_2021/code/models/p2_shallow_learning\n"
     ]
    },
    {
     "data": {
      "image/png": "[encoded data removed]",
      "text/plain": [
       "<Figure size 432x288 with 1 Axes>"
      ]
     },
     "metadata": {
      "needs_background": "light",
      "tags": []
     },
     "output_type": "display_data"
    },
    {
     "data": {
      "image/png": "[encoded data removed]",
      "text/plain": [
       "<Figure size 432x288 with 1 Axes>"
      ]
     },
     "metadata": {
      "needs_background": "light",
      "tags": []
     },
     "output_type": "display_data"
    },
    {
     "data": {
      "image/png": "[encoded data removed]",
      "text/plain": [
       "<Figure size 432x288 with 1 Axes>"
      ]
     },
     "metadata": {
      "needs_background": "light",
      "tags": []
     },
     "output_type": "display_data"
    },
    {
     "data": {
      "image/png": "[encoded data removed]",
      "text/plain": [
       "<Figure size 432x288 with 1 Axes>"
      ]
     },
     "metadata": {
      "needs_background": "light",
      "tags": []
     },
     "output_type": "display_data"
    }
   ],
   "source": [
    "\n",
    "# Change working directory to the absolute path of the shallow models folder\n",
    "%cd $abspath_model_shallow\n",
    "\n",
    "# Import the shallow models\n",
    "%run pmlm_models_shallow.ipynb\n",
    "\n",
    "# The parameter grid of eta\n",
    "eta_grid = [0.0129, 0.0135]\n",
    "\n",
    "# The parameter grid of alpha\n",
    "alpha_grid = [0.01, 0.1]\n",
    "\n",
    "\n",
    "# For each eta\n",
    "for eta in eta_grid:\n",
    "    # For each alpha\n",
    "    for alpha in alpha_grid:        \n",
    "        # The LinearRegression_MBGD\n",
    "        lr_mbgd = LinearRegression_MBGD(eta=eta, alpha=alpha, batch_size =32, penalty='l2',max_iter=100)\n",
    "\n",
    "        # Train lr_mbgd\n",
    "        lr_mbgd.fit(X_train, y_train, X_val, y_val)\n",
    "\n",
    "        # Plot the train loss\n",
    "        plt.plot(range(len(lr_mbgd.loss_train)), lr_mbgd.loss_train, color='green', lw=3, alpha=0.6)  \n",
    "        \n",
    "        # Plot the validation loss\n",
    "        plt.plot(range(len(lr_mbgd.loss_val)), lr_mbgd.loss_val, color='red', lw=3, alpha=0.6) \n",
    "\n",
    "        # Set x-axis\n",
    "        plt.xlabel('Epoch')\n",
    "\n",
    "        # Set y-axis\n",
    "        plt.ylabel('Loss')\n",
    "        plt.yscale('log')\n",
    "        \n",
    "        # Set tick parameters\n",
    "        plt.tick_params(axis='y', which='both', left=False)\n",
    "\n",
    "        # Set legend\n",
    "        plt.legend(['Train', 'Val'], loc='upper center')\n",
    "\n",
    "        # Set the title\n",
    "        plt.title(r'$\\eta=$' + str(eta) + ', ' + r'$\\alpha$=' + str(alpha))\n",
    "        \n",
    "        # Save and show the figure\n",
    "        plt.tight_layout()\n",
    "        plt.savefig(abspath_curr + 'result/figure/lr_mbgd_loss_' + str(eta).replace('.', '') + '_' + str(alpha).replace('.', '') + '.pdf')\n",
    "        plt.show()"
   ]
  },
  {
   "cell_type": "code",
   "execution_count": 55,
   "metadata": {
    "id": "-Brx9LT30bsh"
   },
   "outputs": [],
   "source": [
    "# We are going to use the SGD and MBGD in our hyperparameter tuning pipeline\n",
    "# The method used here is GridSearchcv"
   ]
  },
  {
   "cell_type": "code",
   "execution_count": 56,
   "metadata": {
    "id": "lKAn0Mbg0RsM"
   },
   "outputs": [],
   "source": [
    "from sklearn.linear_model import SGDRegressor\n",
    "\n",
    "models = {'sgd': SGDRegressor(random_state=random_seed),\n",
    "          'lr_mbgd': LinearRegression_MBGD(random_state=random_seed)}"
   ]
  },
  {
   "cell_type": "code",
   "execution_count": 57,
   "metadata": {
    "id": "YowCAPRr0Y_D"
   },
   "outputs": [],
   "source": [
    "from sklearn.pipeline import Pipeline\n",
    "\n",
    "pipes = {}\n",
    "\n",
    "for acronym, model in models.items():\n",
    "    pipes[acronym] = Pipeline([('model', model)])"
   ]
  },
  {
   "cell_type": "code",
   "execution_count": 58,
   "metadata": {
    "id": "MMhOBZBf1rtc"
   },
   "outputs": [],
   "source": [
    "# We will ge the feature matriX and target vector from both the training and validation data\n",
    "# We will loop over each eta and alpha combination and get the performance on both the train and val data\n",
    "\n",
    "X_train_val, y_train_val, ps = get_train_val_ps(X_train, y_train, X_val, y_val)"
   ]
  },
  {
   "cell_type": "code",
   "execution_count": 59,
   "metadata": {
    "id": "4qcU3pqa2HbF"
   },
   "outputs": [],
   "source": [
    "param_grids = {}"
   ]
  },
  {
   "cell_type": "code",
   "execution_count": 60,
   "metadata": {
    "id": "dDGo2jM62oJY"
   },
   "outputs": [],
   "source": [
    "#First on SGD\n",
    "\n",
    "# The parameter grid of eta\n",
    "eta_grid = [0.001, 0.02]\n",
    "\n",
    "# The parameter grid of alpha\n",
    "alpha_grid = [0.01, 0.1]\n",
    "\n",
    "# Update param_grids\n",
    "param_grids['sgd'] = [{'model__eta0': eta_grid,\n",
    "                       'model__alpha': alpha_grid}]"
   ]
  },
  {
   "cell_type": "code",
   "execution_count": 61,
   "metadata": {
    "id": "dva2dYL02qpu"
   },
   "outputs": [],
   "source": [
    "#Second on MBGD\n",
    "\n",
    "# The parameter grid of eta\n",
    "eta_grid = [0.001, 0.02]\n",
    "\n",
    "# The parameter grid of alpha\n",
    "alpha_grid = [0.01, 0.1]\n",
    "\n",
    "# Update param_grids\n",
    "param_grids['lr_mbgd'] = [{'model__eta': eta_grid,\n",
    "                       'model__alpha': alpha_grid}]"
   ]
  },
  {
   "cell_type": "code",
   "execution_count": 62,
   "metadata": {
    "id": "xotAOwvB28lx"
   },
   "outputs": [],
   "source": [
    "# Make directory for the cv results by GridSearchCV\n",
    "directory = os.path.dirname(abspath_curr + 'result/cv_results/GridSearchCV/')\n",
    "if not os.path.exists(directory):\n",
    "    os.makedirs(directory)"
   ]
  },
  {
   "cell_type": "code",
   "execution_count": 63,
   "metadata": {
    "colab": {
     "base_uri": "https://localhost:8080/",
     "height": 106
    },
    "id": "xKQ3F5VN3iZa",
    "outputId": "10002f88-810f-4a55-bdf8-3990d8ab353d"
   },
   "outputs": [
    {
     "data": {
      "text/html": [
       "<div>\n",
       "<style scoped>\n",
       "    .dataframe tbody tr th:only-of-type {\n",
       "        vertical-align: middle;\n",
       "    }\n",
       "\n",
       "    .dataframe tbody tr th {\n",
       "        vertical-align: top;\n",
       "    }\n",
       "\n",
       "    .dataframe thead th {\n",
       "        text-align: right;\n",
       "    }\n",
       "</style>\n",
       "<table border=\"1\" class=\"dataframe\">\n",
       "  <thead>\n",
       "    <tr style=\"text-align: right;\">\n",
       "      <th></th>\n",
       "      <th>best_score</th>\n",
       "      <th>best_param</th>\n",
       "      <th>best_estimator</th>\n",
       "    </tr>\n",
       "  </thead>\n",
       "  <tbody>\n",
       "    <tr>\n",
       "      <th>0</th>\n",
       "      <td>-0.332576</td>\n",
       "      <td>{'model__alpha': 0.01, 'model__eta0': 0.02}</td>\n",
       "      <td>(SGDRegressor(alpha=0.01, average=False, early...</td>\n",
       "    </tr>\n",
       "    <tr>\n",
       "      <th>1</th>\n",
       "      <td>-0.332587</td>\n",
       "      <td>{'model__alpha': 0.1, 'model__eta': 0.001}</td>\n",
       "      <td>(LinearRegression_MBGD(alpha=0.1, batch_size=3...</td>\n",
       "    </tr>\n",
       "  </tbody>\n",
       "</table>\n",
       "</div>"
      ],
      "text/plain": [
       "   best_score  ...                                     best_estimator\n",
       "0   -0.332576  ...  (SGDRegressor(alpha=0.01, average=False, early...\n",
       "1   -0.332587  ...  (LinearRegression_MBGD(alpha=0.1, batch_size=3...\n",
       "\n",
       "[2 rows x 3 columns]"
      ]
     },
     "execution_count": 63,
     "metadata": {
      "tags": []
     },
     "output_type": "execute_result"
    }
   ],
   "source": [
    "from sklearn.model_selection import GridSearchCV\n",
    "\n",
    "# The list of [best_score_, best_params_, best_estimator_] obtained by GridSearchCV\n",
    "best_score_params_estimator_gs = []\n",
    "\n",
    "# For each model\n",
    "for acronym in pipes.keys():\n",
    "    # GridSearchCV\n",
    "    gs = GridSearchCV(estimator=pipes[acronym],\n",
    "                      param_grid=param_grids[acronym],\n",
    "                      scoring='neg_mean_squared_error',\n",
    "                      n_jobs=2,\n",
    "                      cv=ps,\n",
    "                      refit=True\n",
    "                      return_train_score=True)\n",
    "        \n",
    "    # Fit the pipeline\n",
    "    gs = gs.fit(X_train_val, y_train_val)\n",
    "    \n",
    "    # Update best_score_params_estimator_gs\n",
    "    best_score_params_estimator_gs.append([gs.best_score_, gs.best_params_, gs.best_estimator_])\n",
    "    \n",
    "    # Sort cv_results in ascending order of 'rank_test_score' and 'std_test_score'\n",
    "    cv_results = pd.DataFrame.from_dict(gs.cv_results_).sort_values(by=['rank_test_score', 'std_test_score'])\n",
    "    \n",
    "    # Get the important columns in cv_results\n",
    "    important_columns = ['rank_test_score',\n",
    "                         'mean_test_score', \n",
    "                         'std_test_score', \n",
    "                         'mean_train_score', \n",
    "                         'std_train_score',\n",
    "                         'mean_fit_time', \n",
    "                         'std_fit_time',                        \n",
    "                         'mean_score_time', \n",
    "                         'std_score_time']\n",
    "    \n",
    "    # Move the important columns ahead\n",
    "    cv_results = cv_results[important_columns + sorted(list(set(cv_results.columns) - set(important_columns)))]\n",
    "\n",
    "    # Write cv_results file\n",
    "    cv_results.to_csv(path_or_buf=abspath_curr + 'result/cv_results/GridSearchCV/' + acronym + '.csv', index=False)\n",
    "\n",
    "# Sort best_score_params_estimator_gs in descending order \n",
    "best_score_params_estimator_gs = sorted(best_score_params_estimator_gs, key=lambda x : x[0], reverse=True)\n",
    "\n",
    "# Print best_score_params_estimator_gs\n",
    "pd.DataFrame(best_score_params_estimator_gs, columns=['best_score', 'best_param', 'best_estimator'])"
   ]
  },
  {
   "cell_type": "markdown",
   "metadata": {
    "id": "kOF6id8le32I"
   },
   "source": [
    "# Model Selection"
   ]
  },
  {
   "cell_type": "code",
   "execution_count": 65,
   "metadata": {
    "id": "VBUVMfBp3sj1"
   },
   "outputs": [],
   "source": [
    "# Get the best_score, best_params and best_estimator obtained by GridSearchCV\n",
    "best_score_gs, best_params_gs, best_estimator_gs = best_score_params_estimator_gs[0]"
   ]
  },
  {
   "cell_type": "markdown",
   "metadata": {
    "id": "fiEBpqc_e32K"
   },
   "source": [
    "# Generating the Submission File\n",
    "Use the best model selected earlier to generate the submission file for this kaggle competition."
   ]
  },
  {
   "cell_type": "markdown",
   "metadata": {
    "id": "Aw5WYTRGz65s"
   },
   "source": [
    "## Creating the directory for the submission file"
   ]
  },
  {
   "cell_type": "code",
   "execution_count": 66,
   "metadata": {
    "id": "z0oLcggN0C9W"
   },
   "outputs": [],
   "source": [
    "# Make directory\n",
    "directory = os.path.dirname(abspath_curr + 'result/submission/')\n",
    "if not os.path.exists(directory):\n",
    "    os.makedirs(directory)"
   ]
  },
  {
   "cell_type": "markdown",
   "metadata": {
    "id": "y-Qf_8VM0Tt9"
   },
   "source": [
    "## Generating the submission file"
   ]
  },
  {
   "cell_type": "code",
   "execution_count": 67,
   "metadata": {
    "id": "mVdD3N0re32L",
    "scrolled": true
   },
   "outputs": [],
   "source": [
    "# Get the prediction on the testing data using best_model\n",
    "y_test_pred = best_estimator_gs.predict(X_test)\n",
    "\n",
    "# Get the dataframe of y_test_pred, which has the same shape as df_train\n",
    "df_y_test_pred = pd.DataFrame(np.tile(y_test_pred.reshape(-1, 1), df_train.shape[1]),\n",
    "                              columns=df_train.columns)\n",
    "\n",
    "# Transform df_y_test_pred back to the original scale\n",
    "df_y_test_pred = pd.DataFrame(ss.inverse_transform(df_y_test_pred),\n",
    "                              columns=df_train.columns)\n",
    "\n",
    "# Get the submission dataframe\n",
    "df_submit = pd.DataFrame(np.hstack((df_raw_test[['id']], df_y_test_pred[[target]])),\n",
    "                         columns=['id', target])                                                                                      \n",
    "\n",
    "# Generate the submission file\n",
    "df_submit.to_csv(abspath_curr + 'result/submission/submission.csv', index=False)"
   ]
  },
  {
   "cell_type": "code",
   "execution_count": null,
   "metadata": {
    "id": "CVgR_UesMwtx"
   },
   "outputs": [],
   "source": []
  }
 ],
 "metadata": {
  "accelerator": "GPU",
  "colab": {
   "collapsed_sections": [],
   "name": "Homework_1 .ipynb",
   "provenance": [],
   "toc_visible": true
  },
  "kernelspec": {
   "display_name": "Python 3",
   "language": "python",
   "name": "python3"
  },
  "language_info": {
   "codemirror_mode": {
    "name": "ipython",
    "version": 3
   },
   "file_extension": ".py",
   "mimetype": "text/x-python",
   "name": "python",
   "nbconvert_exporter": "python",
   "pygments_lexer": "ipython3",
   "version": "3.8.5"
  },
  "toc": {
   "base_numbering": 1,
   "nav_menu": {},
   "number_sections": true,
   "sideBar": true,
   "skip_h1_title": false,
   "title_cell": "Table of Contents",
   "title_sidebar": "Contents",
   "toc_cell": true,
   "toc_position": {},
   "toc_section_display": true,
   "toc_window_display": false
  }
 },
 "nbformat": 4,
 "nbformat_minor": 1
}
